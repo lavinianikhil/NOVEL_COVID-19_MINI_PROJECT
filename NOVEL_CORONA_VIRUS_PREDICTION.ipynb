{
 "cells": [
  {
   "cell_type": "markdown",
   "metadata": {},
   "source": [
    "#  MACHINE LEARNING MINI PROJECT OF YEAR : 2020"
   ]
  },
  {
   "cell_type": "markdown",
   "metadata": {},
   "source": [
    "-----"
   ]
  },
  {
   "cell_type": "markdown",
   "metadata": {},
   "source": [
    "- ### __TOPIC :__ NOVAL CORONA VIRUS PREDICTION\n"
   ]
  },
  {
   "cell_type": "markdown",
   "metadata": {},
   "source": [
    "- ### __ABOUT PROJECT :__\n",
    "#### - In This Project We Analyze the Outbreak of Corona Virus across the different regions of the world .\n",
    "#### - Predict the Number of Upcoming Cases for the Next 10 Days .\n",
    "#### - Using the Linear Regression & SVM Model ."
   ]
  },
  {
   "cell_type": "markdown",
   "metadata": {},
   "source": [
    "-------"
   ]
  },
  {
   "cell_type": "markdown",
   "metadata": {},
   "source": [
    "### __- Importing Necessary Libraries :__"
   ]
  },
  {
   "cell_type": "code",
   "execution_count": 72,
   "metadata": {},
   "outputs": [],
   "source": [
    "# FOR NUMERICAL COMPTATION AND MANIPULATION\n",
    "import pandas as pd\n",
    "import matplotlib.pyplot as plt\n",
    "# FOR VISUALISING THE DATA AND THE MODEL  \n",
    "import matplotlib.colors as mcolors\n",
    "import numpy as np\n",
    "# FOR STATISTICAL GRAPHICS\n",
    "import seaborn as sns\n",
    "import plotly as px \n",
    "import math \n",
    "import time \n",
    "import random\n",
    "#FOR HANDLING THE WARNINGS\n",
    "import warnings\n",
    "\n",
    "from sklearn.model_selection import RandomizedSearchCV , train_test_split\n",
    "from sklearn.svm import SVR\n",
    "# FOR  METRIC COMPUTUTION\n",
    "from sklearn.metrics import mean_squared_error,mean_absolute_error\n",
    "# FOR WORKING WITH DATE AND TIME\n",
    "import datetime\n",
    "import operator\n",
    "plt.style.use('seaborn')\n",
    "%matplotlib inline\n",
    "\n"
   ]
  },
  {
   "cell_type": "markdown",
   "metadata": {},
   "source": [
    "### __- Reading All 3 Datasets :__"
   ]
  },
  {
   "cell_type": "markdown",
   "metadata": {},
   "source": [
    "##### 1 . Confirmed Covid 19 Cases : "
   ]
  },
  {
   "cell_type": "code",
   "execution_count": 73,
   "metadata": {},
   "outputs": [],
   "source": [
    "confirmed_cases = pd.read_csv('novel-corona-virus-2019-dataset/time_series_covid_19_confirmed.csv')"
   ]
  },
  {
   "cell_type": "markdown",
   "metadata": {},
   "source": [
    "##### 2 . Covid 19 Deaths Cases :"
   ]
  },
  {
   "cell_type": "code",
   "execution_count": 74,
   "metadata": {},
   "outputs": [],
   "source": [
    "deaths_reported = pd.read_csv('novel-corona-virus-2019-dataset/time_series_covid_19_deaths.csv')"
   ]
  },
  {
   "cell_type": "markdown",
   "metadata": {},
   "source": [
    "##### 3 . Covid 19 Recovered Cases :"
   ]
  },
  {
   "cell_type": "code",
   "execution_count": 75,
   "metadata": {},
   "outputs": [],
   "source": [
    "recovered_cases = pd.read_csv('novel-corona-virus-2019-dataset/time_series_covid_19_recovered.csv')"
   ]
  },
  {
   "cell_type": "markdown",
   "metadata": {},
   "source": [
    "### __- Displaying Top 5 Rows of each Datasets :__"
   ]
  },
  {
   "cell_type": "markdown",
   "metadata": {},
   "source": [
    "##### 1 . For Covid 19 Confirmed Cases : "
   ]
  },
  {
   "cell_type": "code",
   "execution_count": 76,
   "metadata": {},
   "outputs": [
    {
     "data": {
      "text/html": [
       "<div>\n",
       "<style scoped>\n",
       "    .dataframe tbody tr th:only-of-type {\n",
       "        vertical-align: middle;\n",
       "    }\n",
       "\n",
       "    .dataframe tbody tr th {\n",
       "        vertical-align: top;\n",
       "    }\n",
       "\n",
       "    .dataframe thead th {\n",
       "        text-align: right;\n",
       "    }\n",
       "</style>\n",
       "<table border=\"1\" class=\"dataframe\">\n",
       "  <thead>\n",
       "    <tr style=\"text-align: right;\">\n",
       "      <th></th>\n",
       "      <th>Province/State</th>\n",
       "      <th>Country/Region</th>\n",
       "      <th>Lat</th>\n",
       "      <th>Long</th>\n",
       "      <th>1/22/20</th>\n",
       "      <th>1/23/20</th>\n",
       "      <th>1/24/20</th>\n",
       "      <th>1/25/20</th>\n",
       "      <th>1/26/20</th>\n",
       "      <th>1/27/20</th>\n",
       "      <th>...</th>\n",
       "      <th>4/22/20</th>\n",
       "      <th>4/23/20</th>\n",
       "      <th>4/24/20</th>\n",
       "      <th>4/25/20</th>\n",
       "      <th>4/26/20</th>\n",
       "      <th>4/27/20</th>\n",
       "      <th>4/28/20</th>\n",
       "      <th>4/29/20</th>\n",
       "      <th>4/30/20</th>\n",
       "      <th>5/1/20</th>\n",
       "    </tr>\n",
       "  </thead>\n",
       "  <tbody>\n",
       "    <tr>\n",
       "      <th>0</th>\n",
       "      <td>NaN</td>\n",
       "      <td>Afghanistan</td>\n",
       "      <td>33.0000</td>\n",
       "      <td>65.0000</td>\n",
       "      <td>0</td>\n",
       "      <td>0</td>\n",
       "      <td>0</td>\n",
       "      <td>0</td>\n",
       "      <td>0</td>\n",
       "      <td>0</td>\n",
       "      <td>...</td>\n",
       "      <td>1176</td>\n",
       "      <td>1279</td>\n",
       "      <td>1351</td>\n",
       "      <td>1463</td>\n",
       "      <td>1531</td>\n",
       "      <td>1703</td>\n",
       "      <td>1828</td>\n",
       "      <td>1939</td>\n",
       "      <td>2171</td>\n",
       "      <td>2335</td>\n",
       "    </tr>\n",
       "    <tr>\n",
       "      <th>1</th>\n",
       "      <td>NaN</td>\n",
       "      <td>Albania</td>\n",
       "      <td>41.1533</td>\n",
       "      <td>20.1683</td>\n",
       "      <td>0</td>\n",
       "      <td>0</td>\n",
       "      <td>0</td>\n",
       "      <td>0</td>\n",
       "      <td>0</td>\n",
       "      <td>0</td>\n",
       "      <td>...</td>\n",
       "      <td>634</td>\n",
       "      <td>663</td>\n",
       "      <td>678</td>\n",
       "      <td>712</td>\n",
       "      <td>726</td>\n",
       "      <td>736</td>\n",
       "      <td>750</td>\n",
       "      <td>766</td>\n",
       "      <td>773</td>\n",
       "      <td>782</td>\n",
       "    </tr>\n",
       "    <tr>\n",
       "      <th>2</th>\n",
       "      <td>NaN</td>\n",
       "      <td>Algeria</td>\n",
       "      <td>28.0339</td>\n",
       "      <td>1.6596</td>\n",
       "      <td>0</td>\n",
       "      <td>0</td>\n",
       "      <td>0</td>\n",
       "      <td>0</td>\n",
       "      <td>0</td>\n",
       "      <td>0</td>\n",
       "      <td>...</td>\n",
       "      <td>2910</td>\n",
       "      <td>3007</td>\n",
       "      <td>3127</td>\n",
       "      <td>3256</td>\n",
       "      <td>3382</td>\n",
       "      <td>3517</td>\n",
       "      <td>3649</td>\n",
       "      <td>3848</td>\n",
       "      <td>4006</td>\n",
       "      <td>4154</td>\n",
       "    </tr>\n",
       "    <tr>\n",
       "      <th>3</th>\n",
       "      <td>NaN</td>\n",
       "      <td>Andorra</td>\n",
       "      <td>42.5063</td>\n",
       "      <td>1.5218</td>\n",
       "      <td>0</td>\n",
       "      <td>0</td>\n",
       "      <td>0</td>\n",
       "      <td>0</td>\n",
       "      <td>0</td>\n",
       "      <td>0</td>\n",
       "      <td>...</td>\n",
       "      <td>723</td>\n",
       "      <td>723</td>\n",
       "      <td>731</td>\n",
       "      <td>738</td>\n",
       "      <td>738</td>\n",
       "      <td>743</td>\n",
       "      <td>743</td>\n",
       "      <td>743</td>\n",
       "      <td>745</td>\n",
       "      <td>745</td>\n",
       "    </tr>\n",
       "    <tr>\n",
       "      <th>4</th>\n",
       "      <td>NaN</td>\n",
       "      <td>Angola</td>\n",
       "      <td>-11.2027</td>\n",
       "      <td>17.8739</td>\n",
       "      <td>0</td>\n",
       "      <td>0</td>\n",
       "      <td>0</td>\n",
       "      <td>0</td>\n",
       "      <td>0</td>\n",
       "      <td>0</td>\n",
       "      <td>...</td>\n",
       "      <td>25</td>\n",
       "      <td>25</td>\n",
       "      <td>25</td>\n",
       "      <td>25</td>\n",
       "      <td>26</td>\n",
       "      <td>27</td>\n",
       "      <td>27</td>\n",
       "      <td>27</td>\n",
       "      <td>27</td>\n",
       "      <td>30</td>\n",
       "    </tr>\n",
       "  </tbody>\n",
       "</table>\n",
       "<p>5 rows × 105 columns</p>\n",
       "</div>"
      ],
      "text/plain": [
       "  Province/State Country/Region      Lat     Long  1/22/20  1/23/20  1/24/20  \\\n",
       "0            NaN    Afghanistan  33.0000  65.0000        0        0        0   \n",
       "1            NaN        Albania  41.1533  20.1683        0        0        0   \n",
       "2            NaN        Algeria  28.0339   1.6596        0        0        0   \n",
       "3            NaN        Andorra  42.5063   1.5218        0        0        0   \n",
       "4            NaN         Angola -11.2027  17.8739        0        0        0   \n",
       "\n",
       "   1/25/20  1/26/20  1/27/20  ...  4/22/20  4/23/20  4/24/20  4/25/20  \\\n",
       "0        0        0        0  ...     1176     1279     1351     1463   \n",
       "1        0        0        0  ...      634      663      678      712   \n",
       "2        0        0        0  ...     2910     3007     3127     3256   \n",
       "3        0        0        0  ...      723      723      731      738   \n",
       "4        0        0        0  ...       25       25       25       25   \n",
       "\n",
       "   4/26/20  4/27/20  4/28/20  4/29/20  4/30/20  5/1/20  \n",
       "0     1531     1703     1828     1939     2171    2335  \n",
       "1      726      736      750      766      773     782  \n",
       "2     3382     3517     3649     3848     4006    4154  \n",
       "3      738      743      743      743      745     745  \n",
       "4       26       27       27       27       27      30  \n",
       "\n",
       "[5 rows x 105 columns]"
      ]
     },
     "execution_count": 76,
     "metadata": {},
     "output_type": "execute_result"
    }
   ],
   "source": [
    "confirmed_cases.head()"
   ]
  },
  {
   "cell_type": "markdown",
   "metadata": {},
   "source": [
    "##### 2 . For Covid 19 Death Cases :"
   ]
  },
  {
   "cell_type": "code",
   "execution_count": 77,
   "metadata": {},
   "outputs": [
    {
     "data": {
      "text/html": [
       "<div>\n",
       "<style scoped>\n",
       "    .dataframe tbody tr th:only-of-type {\n",
       "        vertical-align: middle;\n",
       "    }\n",
       "\n",
       "    .dataframe tbody tr th {\n",
       "        vertical-align: top;\n",
       "    }\n",
       "\n",
       "    .dataframe thead th {\n",
       "        text-align: right;\n",
       "    }\n",
       "</style>\n",
       "<table border=\"1\" class=\"dataframe\">\n",
       "  <thead>\n",
       "    <tr style=\"text-align: right;\">\n",
       "      <th></th>\n",
       "      <th>Province/State</th>\n",
       "      <th>Country/Region</th>\n",
       "      <th>Lat</th>\n",
       "      <th>Long</th>\n",
       "      <th>1/22/20</th>\n",
       "      <th>1/23/20</th>\n",
       "      <th>1/24/20</th>\n",
       "      <th>1/25/20</th>\n",
       "      <th>1/26/20</th>\n",
       "      <th>1/27/20</th>\n",
       "      <th>...</th>\n",
       "      <th>4/22/20</th>\n",
       "      <th>4/23/20</th>\n",
       "      <th>4/24/20</th>\n",
       "      <th>4/25/20</th>\n",
       "      <th>4/26/20</th>\n",
       "      <th>4/27/20</th>\n",
       "      <th>4/28/20</th>\n",
       "      <th>4/29/20</th>\n",
       "      <th>4/30/20</th>\n",
       "      <th>5/1/20</th>\n",
       "    </tr>\n",
       "  </thead>\n",
       "  <tbody>\n",
       "    <tr>\n",
       "      <th>0</th>\n",
       "      <td>NaN</td>\n",
       "      <td>Afghanistan</td>\n",
       "      <td>33.0000</td>\n",
       "      <td>65.0000</td>\n",
       "      <td>0</td>\n",
       "      <td>0</td>\n",
       "      <td>0</td>\n",
       "      <td>0</td>\n",
       "      <td>0</td>\n",
       "      <td>0</td>\n",
       "      <td>...</td>\n",
       "      <td>40</td>\n",
       "      <td>42</td>\n",
       "      <td>43</td>\n",
       "      <td>47</td>\n",
       "      <td>50</td>\n",
       "      <td>57</td>\n",
       "      <td>58</td>\n",
       "      <td>60</td>\n",
       "      <td>64</td>\n",
       "      <td>68</td>\n",
       "    </tr>\n",
       "    <tr>\n",
       "      <th>1</th>\n",
       "      <td>NaN</td>\n",
       "      <td>Albania</td>\n",
       "      <td>41.1533</td>\n",
       "      <td>20.1683</td>\n",
       "      <td>0</td>\n",
       "      <td>0</td>\n",
       "      <td>0</td>\n",
       "      <td>0</td>\n",
       "      <td>0</td>\n",
       "      <td>0</td>\n",
       "      <td>...</td>\n",
       "      <td>27</td>\n",
       "      <td>27</td>\n",
       "      <td>27</td>\n",
       "      <td>27</td>\n",
       "      <td>28</td>\n",
       "      <td>28</td>\n",
       "      <td>30</td>\n",
       "      <td>30</td>\n",
       "      <td>31</td>\n",
       "      <td>31</td>\n",
       "    </tr>\n",
       "    <tr>\n",
       "      <th>2</th>\n",
       "      <td>NaN</td>\n",
       "      <td>Algeria</td>\n",
       "      <td>28.0339</td>\n",
       "      <td>1.6596</td>\n",
       "      <td>0</td>\n",
       "      <td>0</td>\n",
       "      <td>0</td>\n",
       "      <td>0</td>\n",
       "      <td>0</td>\n",
       "      <td>0</td>\n",
       "      <td>...</td>\n",
       "      <td>402</td>\n",
       "      <td>407</td>\n",
       "      <td>415</td>\n",
       "      <td>419</td>\n",
       "      <td>425</td>\n",
       "      <td>432</td>\n",
       "      <td>437</td>\n",
       "      <td>444</td>\n",
       "      <td>450</td>\n",
       "      <td>453</td>\n",
       "    </tr>\n",
       "    <tr>\n",
       "      <th>3</th>\n",
       "      <td>NaN</td>\n",
       "      <td>Andorra</td>\n",
       "      <td>42.5063</td>\n",
       "      <td>1.5218</td>\n",
       "      <td>0</td>\n",
       "      <td>0</td>\n",
       "      <td>0</td>\n",
       "      <td>0</td>\n",
       "      <td>0</td>\n",
       "      <td>0</td>\n",
       "      <td>...</td>\n",
       "      <td>37</td>\n",
       "      <td>37</td>\n",
       "      <td>40</td>\n",
       "      <td>40</td>\n",
       "      <td>40</td>\n",
       "      <td>40</td>\n",
       "      <td>41</td>\n",
       "      <td>42</td>\n",
       "      <td>42</td>\n",
       "      <td>43</td>\n",
       "    </tr>\n",
       "    <tr>\n",
       "      <th>4</th>\n",
       "      <td>NaN</td>\n",
       "      <td>Angola</td>\n",
       "      <td>-11.2027</td>\n",
       "      <td>17.8739</td>\n",
       "      <td>0</td>\n",
       "      <td>0</td>\n",
       "      <td>0</td>\n",
       "      <td>0</td>\n",
       "      <td>0</td>\n",
       "      <td>0</td>\n",
       "      <td>...</td>\n",
       "      <td>2</td>\n",
       "      <td>2</td>\n",
       "      <td>2</td>\n",
       "      <td>2</td>\n",
       "      <td>2</td>\n",
       "      <td>2</td>\n",
       "      <td>2</td>\n",
       "      <td>2</td>\n",
       "      <td>2</td>\n",
       "      <td>2</td>\n",
       "    </tr>\n",
       "  </tbody>\n",
       "</table>\n",
       "<p>5 rows × 105 columns</p>\n",
       "</div>"
      ],
      "text/plain": [
       "  Province/State Country/Region      Lat     Long  1/22/20  1/23/20  1/24/20  \\\n",
       "0            NaN    Afghanistan  33.0000  65.0000        0        0        0   \n",
       "1            NaN        Albania  41.1533  20.1683        0        0        0   \n",
       "2            NaN        Algeria  28.0339   1.6596        0        0        0   \n",
       "3            NaN        Andorra  42.5063   1.5218        0        0        0   \n",
       "4            NaN         Angola -11.2027  17.8739        0        0        0   \n",
       "\n",
       "   1/25/20  1/26/20  1/27/20  ...  4/22/20  4/23/20  4/24/20  4/25/20  \\\n",
       "0        0        0        0  ...       40       42       43       47   \n",
       "1        0        0        0  ...       27       27       27       27   \n",
       "2        0        0        0  ...      402      407      415      419   \n",
       "3        0        0        0  ...       37       37       40       40   \n",
       "4        0        0        0  ...        2        2        2        2   \n",
       "\n",
       "   4/26/20  4/27/20  4/28/20  4/29/20  4/30/20  5/1/20  \n",
       "0       50       57       58       60       64      68  \n",
       "1       28       28       30       30       31      31  \n",
       "2      425      432      437      444      450     453  \n",
       "3       40       40       41       42       42      43  \n",
       "4        2        2        2        2        2       2  \n",
       "\n",
       "[5 rows x 105 columns]"
      ]
     },
     "execution_count": 77,
     "metadata": {},
     "output_type": "execute_result"
    }
   ],
   "source": [
    "deaths_reported.head()"
   ]
  },
  {
   "cell_type": "markdown",
   "metadata": {},
   "source": [
    "##### 3 . For Covid 19 Recovered Cases :"
   ]
  },
  {
   "cell_type": "code",
   "execution_count": 78,
   "metadata": {},
   "outputs": [
    {
     "data": {
      "text/html": [
       "<div>\n",
       "<style scoped>\n",
       "    .dataframe tbody tr th:only-of-type {\n",
       "        vertical-align: middle;\n",
       "    }\n",
       "\n",
       "    .dataframe tbody tr th {\n",
       "        vertical-align: top;\n",
       "    }\n",
       "\n",
       "    .dataframe thead th {\n",
       "        text-align: right;\n",
       "    }\n",
       "</style>\n",
       "<table border=\"1\" class=\"dataframe\">\n",
       "  <thead>\n",
       "    <tr style=\"text-align: right;\">\n",
       "      <th></th>\n",
       "      <th>Province/State</th>\n",
       "      <th>Country/Region</th>\n",
       "      <th>Lat</th>\n",
       "      <th>Long</th>\n",
       "      <th>1/22/20</th>\n",
       "      <th>1/23/20</th>\n",
       "      <th>1/24/20</th>\n",
       "      <th>1/25/20</th>\n",
       "      <th>1/26/20</th>\n",
       "      <th>1/27/20</th>\n",
       "      <th>...</th>\n",
       "      <th>4/22/20</th>\n",
       "      <th>4/23/20</th>\n",
       "      <th>4/24/20</th>\n",
       "      <th>4/25/20</th>\n",
       "      <th>4/26/20</th>\n",
       "      <th>4/27/20</th>\n",
       "      <th>4/28/20</th>\n",
       "      <th>4/29/20</th>\n",
       "      <th>4/30/20</th>\n",
       "      <th>5/1/20</th>\n",
       "    </tr>\n",
       "  </thead>\n",
       "  <tbody>\n",
       "    <tr>\n",
       "      <th>0</th>\n",
       "      <td>NaN</td>\n",
       "      <td>Afghanistan</td>\n",
       "      <td>33.0000</td>\n",
       "      <td>65.0000</td>\n",
       "      <td>0</td>\n",
       "      <td>0</td>\n",
       "      <td>0</td>\n",
       "      <td>0</td>\n",
       "      <td>0</td>\n",
       "      <td>0</td>\n",
       "      <td>...</td>\n",
       "      <td>166</td>\n",
       "      <td>179</td>\n",
       "      <td>188</td>\n",
       "      <td>188</td>\n",
       "      <td>207</td>\n",
       "      <td>220</td>\n",
       "      <td>228</td>\n",
       "      <td>252</td>\n",
       "      <td>260</td>\n",
       "      <td>310</td>\n",
       "    </tr>\n",
       "    <tr>\n",
       "      <th>1</th>\n",
       "      <td>NaN</td>\n",
       "      <td>Albania</td>\n",
       "      <td>41.1533</td>\n",
       "      <td>20.1683</td>\n",
       "      <td>0</td>\n",
       "      <td>0</td>\n",
       "      <td>0</td>\n",
       "      <td>0</td>\n",
       "      <td>0</td>\n",
       "      <td>0</td>\n",
       "      <td>...</td>\n",
       "      <td>356</td>\n",
       "      <td>385</td>\n",
       "      <td>394</td>\n",
       "      <td>403</td>\n",
       "      <td>410</td>\n",
       "      <td>422</td>\n",
       "      <td>431</td>\n",
       "      <td>455</td>\n",
       "      <td>470</td>\n",
       "      <td>488</td>\n",
       "    </tr>\n",
       "    <tr>\n",
       "      <th>2</th>\n",
       "      <td>NaN</td>\n",
       "      <td>Algeria</td>\n",
       "      <td>28.0339</td>\n",
       "      <td>1.6596</td>\n",
       "      <td>0</td>\n",
       "      <td>0</td>\n",
       "      <td>0</td>\n",
       "      <td>0</td>\n",
       "      <td>0</td>\n",
       "      <td>0</td>\n",
       "      <td>...</td>\n",
       "      <td>1204</td>\n",
       "      <td>1355</td>\n",
       "      <td>1408</td>\n",
       "      <td>1479</td>\n",
       "      <td>1508</td>\n",
       "      <td>1558</td>\n",
       "      <td>1651</td>\n",
       "      <td>1702</td>\n",
       "      <td>1779</td>\n",
       "      <td>1821</td>\n",
       "    </tr>\n",
       "    <tr>\n",
       "      <th>3</th>\n",
       "      <td>NaN</td>\n",
       "      <td>Andorra</td>\n",
       "      <td>42.5063</td>\n",
       "      <td>1.5218</td>\n",
       "      <td>0</td>\n",
       "      <td>0</td>\n",
       "      <td>0</td>\n",
       "      <td>0</td>\n",
       "      <td>0</td>\n",
       "      <td>0</td>\n",
       "      <td>...</td>\n",
       "      <td>309</td>\n",
       "      <td>333</td>\n",
       "      <td>344</td>\n",
       "      <td>344</td>\n",
       "      <td>344</td>\n",
       "      <td>385</td>\n",
       "      <td>398</td>\n",
       "      <td>423</td>\n",
       "      <td>468</td>\n",
       "      <td>468</td>\n",
       "    </tr>\n",
       "    <tr>\n",
       "      <th>4</th>\n",
       "      <td>NaN</td>\n",
       "      <td>Angola</td>\n",
       "      <td>-11.2027</td>\n",
       "      <td>17.8739</td>\n",
       "      <td>0</td>\n",
       "      <td>0</td>\n",
       "      <td>0</td>\n",
       "      <td>0</td>\n",
       "      <td>0</td>\n",
       "      <td>0</td>\n",
       "      <td>...</td>\n",
       "      <td>6</td>\n",
       "      <td>6</td>\n",
       "      <td>6</td>\n",
       "      <td>6</td>\n",
       "      <td>6</td>\n",
       "      <td>6</td>\n",
       "      <td>6</td>\n",
       "      <td>7</td>\n",
       "      <td>7</td>\n",
       "      <td>11</td>\n",
       "    </tr>\n",
       "  </tbody>\n",
       "</table>\n",
       "<p>5 rows × 105 columns</p>\n",
       "</div>"
      ],
      "text/plain": [
       "  Province/State Country/Region      Lat     Long  1/22/20  1/23/20  1/24/20  \\\n",
       "0            NaN    Afghanistan  33.0000  65.0000        0        0        0   \n",
       "1            NaN        Albania  41.1533  20.1683        0        0        0   \n",
       "2            NaN        Algeria  28.0339   1.6596        0        0        0   \n",
       "3            NaN        Andorra  42.5063   1.5218        0        0        0   \n",
       "4            NaN         Angola -11.2027  17.8739        0        0        0   \n",
       "\n",
       "   1/25/20  1/26/20  1/27/20  ...  4/22/20  4/23/20  4/24/20  4/25/20  \\\n",
       "0        0        0        0  ...      166      179      188      188   \n",
       "1        0        0        0  ...      356      385      394      403   \n",
       "2        0        0        0  ...     1204     1355     1408     1479   \n",
       "3        0        0        0  ...      309      333      344      344   \n",
       "4        0        0        0  ...        6        6        6        6   \n",
       "\n",
       "   4/26/20  4/27/20  4/28/20  4/29/20  4/30/20  5/1/20  \n",
       "0      207      220      228      252      260     310  \n",
       "1      410      422      431      455      470     488  \n",
       "2     1508     1558     1651     1702     1779    1821  \n",
       "3      344      385      398      423      468     468  \n",
       "4        6        6        6        7        7      11  \n",
       "\n",
       "[5 rows x 105 columns]"
      ]
     },
     "execution_count": 78,
     "metadata": {},
     "output_type": "execute_result"
    }
   ],
   "source": [
    "recovered_cases.head()"
   ]
  },
  {
   "cell_type": "markdown",
   "metadata": {},
   "source": [
    "### __- Extracting All the Columns Using the Keys() Function :__"
   ]
  },
  {
   "cell_type": "code",
   "execution_count": 79,
   "metadata": {},
   "outputs": [
    {
     "data": {
      "text/plain": [
       "Index(['Province/State', 'Country/Region', 'Lat', 'Long', '1/22/20', '1/23/20',\n",
       "       '1/24/20', '1/25/20', '1/26/20', '1/27/20',\n",
       "       ...\n",
       "       '4/22/20', '4/23/20', '4/24/20', '4/25/20', '4/26/20', '4/27/20',\n",
       "       '4/28/20', '4/29/20', '4/30/20', '5/1/20'],\n",
       "      dtype='object', length=105)"
      ]
     },
     "execution_count": 79,
     "metadata": {},
     "output_type": "execute_result"
    }
   ],
   "source": [
    "cols = confirmed_cases.keys()\n",
    "cols"
   ]
  },
  {
   "cell_type": "markdown",
   "metadata": {},
   "source": [
    "### __- Extracting Only the Dates Columns of each 3 Cases :__"
   ]
  },
  {
   "cell_type": "code",
   "execution_count": 80,
   "metadata": {},
   "outputs": [],
   "source": [
    "confirmed = confirmed_cases.loc[:,cols[4]:cols[-1]]\n",
    "deaths = deaths_reported.loc[:,cols[4]:cols[-1]]\n",
    "recoveries = recovered_cases.loc[:,cols[4]:cols[-1]]"
   ]
  },
  {
   "cell_type": "markdown",
   "metadata": {},
   "source": [
    "### __- Top 5 Rows of Outbreak Cases :__"
   ]
  },
  {
   "cell_type": "code",
   "execution_count": 81,
   "metadata": {},
   "outputs": [
    {
     "data": {
      "text/html": [
       "<div>\n",
       "<style scoped>\n",
       "    .dataframe tbody tr th:only-of-type {\n",
       "        vertical-align: middle;\n",
       "    }\n",
       "\n",
       "    .dataframe tbody tr th {\n",
       "        vertical-align: top;\n",
       "    }\n",
       "\n",
       "    .dataframe thead th {\n",
       "        text-align: right;\n",
       "    }\n",
       "</style>\n",
       "<table border=\"1\" class=\"dataframe\">\n",
       "  <thead>\n",
       "    <tr style=\"text-align: right;\">\n",
       "      <th></th>\n",
       "      <th>1/22/20</th>\n",
       "      <th>1/23/20</th>\n",
       "      <th>1/24/20</th>\n",
       "      <th>1/25/20</th>\n",
       "      <th>1/26/20</th>\n",
       "      <th>1/27/20</th>\n",
       "      <th>1/28/20</th>\n",
       "      <th>1/29/20</th>\n",
       "      <th>1/30/20</th>\n",
       "      <th>1/31/20</th>\n",
       "      <th>...</th>\n",
       "      <th>4/22/20</th>\n",
       "      <th>4/23/20</th>\n",
       "      <th>4/24/20</th>\n",
       "      <th>4/25/20</th>\n",
       "      <th>4/26/20</th>\n",
       "      <th>4/27/20</th>\n",
       "      <th>4/28/20</th>\n",
       "      <th>4/29/20</th>\n",
       "      <th>4/30/20</th>\n",
       "      <th>5/1/20</th>\n",
       "    </tr>\n",
       "  </thead>\n",
       "  <tbody>\n",
       "    <tr>\n",
       "      <th>0</th>\n",
       "      <td>0</td>\n",
       "      <td>0</td>\n",
       "      <td>0</td>\n",
       "      <td>0</td>\n",
       "      <td>0</td>\n",
       "      <td>0</td>\n",
       "      <td>0</td>\n",
       "      <td>0</td>\n",
       "      <td>0</td>\n",
       "      <td>0</td>\n",
       "      <td>...</td>\n",
       "      <td>1176</td>\n",
       "      <td>1279</td>\n",
       "      <td>1351</td>\n",
       "      <td>1463</td>\n",
       "      <td>1531</td>\n",
       "      <td>1703</td>\n",
       "      <td>1828</td>\n",
       "      <td>1939</td>\n",
       "      <td>2171</td>\n",
       "      <td>2335</td>\n",
       "    </tr>\n",
       "    <tr>\n",
       "      <th>1</th>\n",
       "      <td>0</td>\n",
       "      <td>0</td>\n",
       "      <td>0</td>\n",
       "      <td>0</td>\n",
       "      <td>0</td>\n",
       "      <td>0</td>\n",
       "      <td>0</td>\n",
       "      <td>0</td>\n",
       "      <td>0</td>\n",
       "      <td>0</td>\n",
       "      <td>...</td>\n",
       "      <td>634</td>\n",
       "      <td>663</td>\n",
       "      <td>678</td>\n",
       "      <td>712</td>\n",
       "      <td>726</td>\n",
       "      <td>736</td>\n",
       "      <td>750</td>\n",
       "      <td>766</td>\n",
       "      <td>773</td>\n",
       "      <td>782</td>\n",
       "    </tr>\n",
       "    <tr>\n",
       "      <th>2</th>\n",
       "      <td>0</td>\n",
       "      <td>0</td>\n",
       "      <td>0</td>\n",
       "      <td>0</td>\n",
       "      <td>0</td>\n",
       "      <td>0</td>\n",
       "      <td>0</td>\n",
       "      <td>0</td>\n",
       "      <td>0</td>\n",
       "      <td>0</td>\n",
       "      <td>...</td>\n",
       "      <td>2910</td>\n",
       "      <td>3007</td>\n",
       "      <td>3127</td>\n",
       "      <td>3256</td>\n",
       "      <td>3382</td>\n",
       "      <td>3517</td>\n",
       "      <td>3649</td>\n",
       "      <td>3848</td>\n",
       "      <td>4006</td>\n",
       "      <td>4154</td>\n",
       "    </tr>\n",
       "    <tr>\n",
       "      <th>3</th>\n",
       "      <td>0</td>\n",
       "      <td>0</td>\n",
       "      <td>0</td>\n",
       "      <td>0</td>\n",
       "      <td>0</td>\n",
       "      <td>0</td>\n",
       "      <td>0</td>\n",
       "      <td>0</td>\n",
       "      <td>0</td>\n",
       "      <td>0</td>\n",
       "      <td>...</td>\n",
       "      <td>723</td>\n",
       "      <td>723</td>\n",
       "      <td>731</td>\n",
       "      <td>738</td>\n",
       "      <td>738</td>\n",
       "      <td>743</td>\n",
       "      <td>743</td>\n",
       "      <td>743</td>\n",
       "      <td>745</td>\n",
       "      <td>745</td>\n",
       "    </tr>\n",
       "    <tr>\n",
       "      <th>4</th>\n",
       "      <td>0</td>\n",
       "      <td>0</td>\n",
       "      <td>0</td>\n",
       "      <td>0</td>\n",
       "      <td>0</td>\n",
       "      <td>0</td>\n",
       "      <td>0</td>\n",
       "      <td>0</td>\n",
       "      <td>0</td>\n",
       "      <td>0</td>\n",
       "      <td>...</td>\n",
       "      <td>25</td>\n",
       "      <td>25</td>\n",
       "      <td>25</td>\n",
       "      <td>25</td>\n",
       "      <td>26</td>\n",
       "      <td>27</td>\n",
       "      <td>27</td>\n",
       "      <td>27</td>\n",
       "      <td>27</td>\n",
       "      <td>30</td>\n",
       "    </tr>\n",
       "  </tbody>\n",
       "</table>\n",
       "<p>5 rows × 101 columns</p>\n",
       "</div>"
      ],
      "text/plain": [
       "   1/22/20  1/23/20  1/24/20  1/25/20  1/26/20  1/27/20  1/28/20  1/29/20  \\\n",
       "0        0        0        0        0        0        0        0        0   \n",
       "1        0        0        0        0        0        0        0        0   \n",
       "2        0        0        0        0        0        0        0        0   \n",
       "3        0        0        0        0        0        0        0        0   \n",
       "4        0        0        0        0        0        0        0        0   \n",
       "\n",
       "   1/30/20  1/31/20  ...  4/22/20  4/23/20  4/24/20  4/25/20  4/26/20  \\\n",
       "0        0        0  ...     1176     1279     1351     1463     1531   \n",
       "1        0        0  ...      634      663      678      712      726   \n",
       "2        0        0  ...     2910     3007     3127     3256     3382   \n",
       "3        0        0  ...      723      723      731      738      738   \n",
       "4        0        0  ...       25       25       25       25       26   \n",
       "\n",
       "   4/27/20  4/28/20  4/29/20  4/30/20  5/1/20  \n",
       "0     1703     1828     1939     2171    2335  \n",
       "1      736      750      766      773     782  \n",
       "2     3517     3649     3848     4006    4154  \n",
       "3      743      743      743      745     745  \n",
       "4       27       27       27       27      30  \n",
       "\n",
       "[5 rows x 101 columns]"
      ]
     },
     "execution_count": 81,
     "metadata": {},
     "output_type": "execute_result"
    }
   ],
   "source": [
    "confirmed.head()"
   ]
  },
  {
   "cell_type": "code",
   "execution_count": 82,
   "metadata": {},
   "outputs": [
    {
     "data": {
      "text/html": [
       "<div>\n",
       "<style scoped>\n",
       "    .dataframe tbody tr th:only-of-type {\n",
       "        vertical-align: middle;\n",
       "    }\n",
       "\n",
       "    .dataframe tbody tr th {\n",
       "        vertical-align: top;\n",
       "    }\n",
       "\n",
       "    .dataframe thead th {\n",
       "        text-align: right;\n",
       "    }\n",
       "</style>\n",
       "<table border=\"1\" class=\"dataframe\">\n",
       "  <thead>\n",
       "    <tr style=\"text-align: right;\">\n",
       "      <th></th>\n",
       "      <th>1/22/20</th>\n",
       "      <th>1/23/20</th>\n",
       "      <th>1/24/20</th>\n",
       "      <th>1/25/20</th>\n",
       "      <th>1/26/20</th>\n",
       "      <th>1/27/20</th>\n",
       "      <th>1/28/20</th>\n",
       "      <th>1/29/20</th>\n",
       "      <th>1/30/20</th>\n",
       "      <th>1/31/20</th>\n",
       "      <th>...</th>\n",
       "      <th>4/22/20</th>\n",
       "      <th>4/23/20</th>\n",
       "      <th>4/24/20</th>\n",
       "      <th>4/25/20</th>\n",
       "      <th>4/26/20</th>\n",
       "      <th>4/27/20</th>\n",
       "      <th>4/28/20</th>\n",
       "      <th>4/29/20</th>\n",
       "      <th>4/30/20</th>\n",
       "      <th>5/1/20</th>\n",
       "    </tr>\n",
       "  </thead>\n",
       "  <tbody>\n",
       "    <tr>\n",
       "      <th>0</th>\n",
       "      <td>0</td>\n",
       "      <td>0</td>\n",
       "      <td>0</td>\n",
       "      <td>0</td>\n",
       "      <td>0</td>\n",
       "      <td>0</td>\n",
       "      <td>0</td>\n",
       "      <td>0</td>\n",
       "      <td>0</td>\n",
       "      <td>0</td>\n",
       "      <td>...</td>\n",
       "      <td>40</td>\n",
       "      <td>42</td>\n",
       "      <td>43</td>\n",
       "      <td>47</td>\n",
       "      <td>50</td>\n",
       "      <td>57</td>\n",
       "      <td>58</td>\n",
       "      <td>60</td>\n",
       "      <td>64</td>\n",
       "      <td>68</td>\n",
       "    </tr>\n",
       "    <tr>\n",
       "      <th>1</th>\n",
       "      <td>0</td>\n",
       "      <td>0</td>\n",
       "      <td>0</td>\n",
       "      <td>0</td>\n",
       "      <td>0</td>\n",
       "      <td>0</td>\n",
       "      <td>0</td>\n",
       "      <td>0</td>\n",
       "      <td>0</td>\n",
       "      <td>0</td>\n",
       "      <td>...</td>\n",
       "      <td>27</td>\n",
       "      <td>27</td>\n",
       "      <td>27</td>\n",
       "      <td>27</td>\n",
       "      <td>28</td>\n",
       "      <td>28</td>\n",
       "      <td>30</td>\n",
       "      <td>30</td>\n",
       "      <td>31</td>\n",
       "      <td>31</td>\n",
       "    </tr>\n",
       "    <tr>\n",
       "      <th>2</th>\n",
       "      <td>0</td>\n",
       "      <td>0</td>\n",
       "      <td>0</td>\n",
       "      <td>0</td>\n",
       "      <td>0</td>\n",
       "      <td>0</td>\n",
       "      <td>0</td>\n",
       "      <td>0</td>\n",
       "      <td>0</td>\n",
       "      <td>0</td>\n",
       "      <td>...</td>\n",
       "      <td>402</td>\n",
       "      <td>407</td>\n",
       "      <td>415</td>\n",
       "      <td>419</td>\n",
       "      <td>425</td>\n",
       "      <td>432</td>\n",
       "      <td>437</td>\n",
       "      <td>444</td>\n",
       "      <td>450</td>\n",
       "      <td>453</td>\n",
       "    </tr>\n",
       "    <tr>\n",
       "      <th>3</th>\n",
       "      <td>0</td>\n",
       "      <td>0</td>\n",
       "      <td>0</td>\n",
       "      <td>0</td>\n",
       "      <td>0</td>\n",
       "      <td>0</td>\n",
       "      <td>0</td>\n",
       "      <td>0</td>\n",
       "      <td>0</td>\n",
       "      <td>0</td>\n",
       "      <td>...</td>\n",
       "      <td>37</td>\n",
       "      <td>37</td>\n",
       "      <td>40</td>\n",
       "      <td>40</td>\n",
       "      <td>40</td>\n",
       "      <td>40</td>\n",
       "      <td>41</td>\n",
       "      <td>42</td>\n",
       "      <td>42</td>\n",
       "      <td>43</td>\n",
       "    </tr>\n",
       "    <tr>\n",
       "      <th>4</th>\n",
       "      <td>0</td>\n",
       "      <td>0</td>\n",
       "      <td>0</td>\n",
       "      <td>0</td>\n",
       "      <td>0</td>\n",
       "      <td>0</td>\n",
       "      <td>0</td>\n",
       "      <td>0</td>\n",
       "      <td>0</td>\n",
       "      <td>0</td>\n",
       "      <td>...</td>\n",
       "      <td>2</td>\n",
       "      <td>2</td>\n",
       "      <td>2</td>\n",
       "      <td>2</td>\n",
       "      <td>2</td>\n",
       "      <td>2</td>\n",
       "      <td>2</td>\n",
       "      <td>2</td>\n",
       "      <td>2</td>\n",
       "      <td>2</td>\n",
       "    </tr>\n",
       "  </tbody>\n",
       "</table>\n",
       "<p>5 rows × 101 columns</p>\n",
       "</div>"
      ],
      "text/plain": [
       "   1/22/20  1/23/20  1/24/20  1/25/20  1/26/20  1/27/20  1/28/20  1/29/20  \\\n",
       "0        0        0        0        0        0        0        0        0   \n",
       "1        0        0        0        0        0        0        0        0   \n",
       "2        0        0        0        0        0        0        0        0   \n",
       "3        0        0        0        0        0        0        0        0   \n",
       "4        0        0        0        0        0        0        0        0   \n",
       "\n",
       "   1/30/20  1/31/20  ...  4/22/20  4/23/20  4/24/20  4/25/20  4/26/20  \\\n",
       "0        0        0  ...       40       42       43       47       50   \n",
       "1        0        0  ...       27       27       27       27       28   \n",
       "2        0        0  ...      402      407      415      419      425   \n",
       "3        0        0  ...       37       37       40       40       40   \n",
       "4        0        0  ...        2        2        2        2        2   \n",
       "\n",
       "   4/27/20  4/28/20  4/29/20  4/30/20  5/1/20  \n",
       "0       57       58       60       64      68  \n",
       "1       28       30       30       31      31  \n",
       "2      432      437      444      450     453  \n",
       "3       40       41       42       42      43  \n",
       "4        2        2        2        2       2  \n",
       "\n",
       "[5 rows x 101 columns]"
      ]
     },
     "execution_count": 82,
     "metadata": {},
     "output_type": "execute_result"
    }
   ],
   "source": [
    "deaths.head()"
   ]
  },
  {
   "cell_type": "code",
   "execution_count": 83,
   "metadata": {},
   "outputs": [
    {
     "data": {
      "text/html": [
       "<div>\n",
       "<style scoped>\n",
       "    .dataframe tbody tr th:only-of-type {\n",
       "        vertical-align: middle;\n",
       "    }\n",
       "\n",
       "    .dataframe tbody tr th {\n",
       "        vertical-align: top;\n",
       "    }\n",
       "\n",
       "    .dataframe thead th {\n",
       "        text-align: right;\n",
       "    }\n",
       "</style>\n",
       "<table border=\"1\" class=\"dataframe\">\n",
       "  <thead>\n",
       "    <tr style=\"text-align: right;\">\n",
       "      <th></th>\n",
       "      <th>1/22/20</th>\n",
       "      <th>1/23/20</th>\n",
       "      <th>1/24/20</th>\n",
       "      <th>1/25/20</th>\n",
       "      <th>1/26/20</th>\n",
       "      <th>1/27/20</th>\n",
       "      <th>1/28/20</th>\n",
       "      <th>1/29/20</th>\n",
       "      <th>1/30/20</th>\n",
       "      <th>1/31/20</th>\n",
       "      <th>...</th>\n",
       "      <th>4/22/20</th>\n",
       "      <th>4/23/20</th>\n",
       "      <th>4/24/20</th>\n",
       "      <th>4/25/20</th>\n",
       "      <th>4/26/20</th>\n",
       "      <th>4/27/20</th>\n",
       "      <th>4/28/20</th>\n",
       "      <th>4/29/20</th>\n",
       "      <th>4/30/20</th>\n",
       "      <th>5/1/20</th>\n",
       "    </tr>\n",
       "  </thead>\n",
       "  <tbody>\n",
       "    <tr>\n",
       "      <th>0</th>\n",
       "      <td>0</td>\n",
       "      <td>0</td>\n",
       "      <td>0</td>\n",
       "      <td>0</td>\n",
       "      <td>0</td>\n",
       "      <td>0</td>\n",
       "      <td>0</td>\n",
       "      <td>0</td>\n",
       "      <td>0</td>\n",
       "      <td>0</td>\n",
       "      <td>...</td>\n",
       "      <td>166</td>\n",
       "      <td>179</td>\n",
       "      <td>188</td>\n",
       "      <td>188</td>\n",
       "      <td>207</td>\n",
       "      <td>220</td>\n",
       "      <td>228</td>\n",
       "      <td>252</td>\n",
       "      <td>260</td>\n",
       "      <td>310</td>\n",
       "    </tr>\n",
       "    <tr>\n",
       "      <th>1</th>\n",
       "      <td>0</td>\n",
       "      <td>0</td>\n",
       "      <td>0</td>\n",
       "      <td>0</td>\n",
       "      <td>0</td>\n",
       "      <td>0</td>\n",
       "      <td>0</td>\n",
       "      <td>0</td>\n",
       "      <td>0</td>\n",
       "      <td>0</td>\n",
       "      <td>...</td>\n",
       "      <td>356</td>\n",
       "      <td>385</td>\n",
       "      <td>394</td>\n",
       "      <td>403</td>\n",
       "      <td>410</td>\n",
       "      <td>422</td>\n",
       "      <td>431</td>\n",
       "      <td>455</td>\n",
       "      <td>470</td>\n",
       "      <td>488</td>\n",
       "    </tr>\n",
       "    <tr>\n",
       "      <th>2</th>\n",
       "      <td>0</td>\n",
       "      <td>0</td>\n",
       "      <td>0</td>\n",
       "      <td>0</td>\n",
       "      <td>0</td>\n",
       "      <td>0</td>\n",
       "      <td>0</td>\n",
       "      <td>0</td>\n",
       "      <td>0</td>\n",
       "      <td>0</td>\n",
       "      <td>...</td>\n",
       "      <td>1204</td>\n",
       "      <td>1355</td>\n",
       "      <td>1408</td>\n",
       "      <td>1479</td>\n",
       "      <td>1508</td>\n",
       "      <td>1558</td>\n",
       "      <td>1651</td>\n",
       "      <td>1702</td>\n",
       "      <td>1779</td>\n",
       "      <td>1821</td>\n",
       "    </tr>\n",
       "    <tr>\n",
       "      <th>3</th>\n",
       "      <td>0</td>\n",
       "      <td>0</td>\n",
       "      <td>0</td>\n",
       "      <td>0</td>\n",
       "      <td>0</td>\n",
       "      <td>0</td>\n",
       "      <td>0</td>\n",
       "      <td>0</td>\n",
       "      <td>0</td>\n",
       "      <td>0</td>\n",
       "      <td>...</td>\n",
       "      <td>309</td>\n",
       "      <td>333</td>\n",
       "      <td>344</td>\n",
       "      <td>344</td>\n",
       "      <td>344</td>\n",
       "      <td>385</td>\n",
       "      <td>398</td>\n",
       "      <td>423</td>\n",
       "      <td>468</td>\n",
       "      <td>468</td>\n",
       "    </tr>\n",
       "    <tr>\n",
       "      <th>4</th>\n",
       "      <td>0</td>\n",
       "      <td>0</td>\n",
       "      <td>0</td>\n",
       "      <td>0</td>\n",
       "      <td>0</td>\n",
       "      <td>0</td>\n",
       "      <td>0</td>\n",
       "      <td>0</td>\n",
       "      <td>0</td>\n",
       "      <td>0</td>\n",
       "      <td>...</td>\n",
       "      <td>6</td>\n",
       "      <td>6</td>\n",
       "      <td>6</td>\n",
       "      <td>6</td>\n",
       "      <td>6</td>\n",
       "      <td>6</td>\n",
       "      <td>6</td>\n",
       "      <td>7</td>\n",
       "      <td>7</td>\n",
       "      <td>11</td>\n",
       "    </tr>\n",
       "  </tbody>\n",
       "</table>\n",
       "<p>5 rows × 101 columns</p>\n",
       "</div>"
      ],
      "text/plain": [
       "   1/22/20  1/23/20  1/24/20  1/25/20  1/26/20  1/27/20  1/28/20  1/29/20  \\\n",
       "0        0        0        0        0        0        0        0        0   \n",
       "1        0        0        0        0        0        0        0        0   \n",
       "2        0        0        0        0        0        0        0        0   \n",
       "3        0        0        0        0        0        0        0        0   \n",
       "4        0        0        0        0        0        0        0        0   \n",
       "\n",
       "   1/30/20  1/31/20  ...  4/22/20  4/23/20  4/24/20  4/25/20  4/26/20  \\\n",
       "0        0        0  ...      166      179      188      188      207   \n",
       "1        0        0  ...      356      385      394      403      410   \n",
       "2        0        0  ...     1204     1355     1408     1479     1508   \n",
       "3        0        0  ...      309      333      344      344      344   \n",
       "4        0        0  ...        6        6        6        6        6   \n",
       "\n",
       "   4/27/20  4/28/20  4/29/20  4/30/20  5/1/20  \n",
       "0      220      228      252      260     310  \n",
       "1      422      431      455      470     488  \n",
       "2     1558     1651     1702     1779    1821  \n",
       "3      385      398      423      468     468  \n",
       "4        6        6        7        7      11  \n",
       "\n",
       "[5 rows x 101 columns]"
      ]
     },
     "execution_count": 83,
     "metadata": {},
     "output_type": "execute_result"
    }
   ],
   "source": [
    "recoveries.head()"
   ]
  },
  {
   "cell_type": "markdown",
   "metadata": {},
   "source": [
    "### __- Finding Total Confirmed , Deaths & Recovered Cases :__\n",
    "### __- Appending them into 4 Empty Lists :__\n",
    "### __- Calculating , Total Mortality Rate = Death_Sum / Confirmed Cases :__"
   ]
  },
  {
   "cell_type": "code",
   "execution_count": 84,
   "metadata": {},
   "outputs": [],
   "source": [
    "dates=confirmed.keys()\n",
    "world_cases=[]\n",
    "total_deaths=[]\n",
    "mortality_rate=[]\n",
    "total_recoverd=[]\n",
    "for i in dates:\n",
    "    confirmed_sum=confirmed[i].sum()\n",
    "    death_sum=deaths[i].sum()\n",
    "    recovered_sum=recoveries[i].sum()\n",
    "    world_cases.append(confirmed_sum)\n",
    "    total_deaths.append(death_sum)\n",
    "    mortality_rate.append(death_sum/confirmed_sum)\n",
    "    total_recoverd.append(recovered_sum)"
   ]
  },
  {
   "cell_type": "markdown",
   "metadata": {},
   "source": [
    "### __- Displaying each Newly Created Variables :__"
   ]
  },
  {
   "cell_type": "code",
   "execution_count": 85,
   "metadata": {},
   "outputs": [
    {
     "data": {
      "text/plain": [
       "3343777"
      ]
     },
     "execution_count": 85,
     "metadata": {},
     "output_type": "execute_result"
    }
   ],
   "source": [
    "confirmed_sum"
   ]
  },
  {
   "cell_type": "code",
   "execution_count": 86,
   "metadata": {},
   "outputs": [
    {
     "data": {
      "text/plain": [
       "238650"
      ]
     },
     "execution_count": 86,
     "metadata": {},
     "output_type": "execute_result"
    }
   ],
   "source": [
    "death_sum"
   ]
  },
  {
   "cell_type": "code",
   "execution_count": 87,
   "metadata": {},
   "outputs": [
    {
     "data": {
      "text/plain": [
       "1053327"
      ]
     },
     "execution_count": 87,
     "metadata": {},
     "output_type": "execute_result"
    }
   ],
   "source": [
    "recovered_sum"
   ]
  },
  {
   "cell_type": "code",
   "execution_count": 88,
   "metadata": {},
   "outputs": [
    {
     "data": {
      "text/plain": [
       "[555,\n",
       " 654,\n",
       " 941,\n",
       " 1434,\n",
       " 2118,\n",
       " 2927,\n",
       " 5578,\n",
       " 6166,\n",
       " 8234,\n",
       " 9927,\n",
       " 12038,\n",
       " 16787,\n",
       " 19881,\n",
       " 23892,\n",
       " 27635,\n",
       " 30794,\n",
       " 34391,\n",
       " 37120,\n",
       " 40150,\n",
       " 42762,\n",
       " 44802,\n",
       " 45221,\n",
       " 60368,\n",
       " 66885,\n",
       " 69030,\n",
       " 71224,\n",
       " 73258,\n",
       " 75136,\n",
       " 75639,\n",
       " 76197,\n",
       " 76819,\n",
       " 78572,\n",
       " 78958,\n",
       " 79561,\n",
       " 80406,\n",
       " 81388,\n",
       " 82746,\n",
       " 84112,\n",
       " 86011,\n",
       " 88369,\n",
       " 90306,\n",
       " 92840,\n",
       " 95120,\n",
       " 97886,\n",
       " 101801,\n",
       " 105847,\n",
       " 109821,\n",
       " 113590,\n",
       " 118620,\n",
       " 125875,\n",
       " 128352,\n",
       " 145219,\n",
       " 156116,\n",
       " 167466,\n",
       " 181603,\n",
       " 197113,\n",
       " 214846,\n",
       " 242616,\n",
       " 272247,\n",
       " 304555,\n",
       " 337018,\n",
       " 378282,\n",
       " 418079,\n",
       " 467723,\n",
       " 529701,\n",
       " 593423,\n",
       " 660824,\n",
       " 720285,\n",
       " 782490,\n",
       " 857608,\n",
       " 932638,\n",
       " 1013458,\n",
       " 1095876,\n",
       " 1176059,\n",
       " 1249737,\n",
       " 1321427,\n",
       " 1396438,\n",
       " 1480200,\n",
       " 1565538,\n",
       " 1657929,\n",
       " 1736025,\n",
       " 1835164,\n",
       " 1905192,\n",
       " 1975581,\n",
       " 2055506,\n",
       " 2151872,\n",
       " 2239723,\n",
       " 2317339,\n",
       " 2400894,\n",
       " 2471847,\n",
       " 2549175,\n",
       " 2624741,\n",
       " 2708547,\n",
       " 2795875,\n",
       " 2881140,\n",
       " 2955033,\n",
       " 3023722,\n",
       " 3097190,\n",
       " 3172287,\n",
       " 3256853,\n",
       " 3343777]"
      ]
     },
     "execution_count": 88,
     "metadata": {},
     "output_type": "execute_result"
    }
   ],
   "source": [
    "world_cases"
   ]
  },
  {
   "cell_type": "markdown",
   "metadata": {},
   "source": [
    "### __- Convert all Dates & Cases in Numpy Array Form :__"
   ]
  },
  {
   "cell_type": "code",
   "execution_count": 89,
   "metadata": {},
   "outputs": [],
   "source": [
    "days_since_1_22 = np.array([i for i in range(len(dates))]).reshape(-1,1)\n",
    "world_cases = np.array(world_cases).reshape(-1,1)\n",
    "total_deaths = np.array(total_deaths).reshape(-1,1)\n",
    "total_recovered = np.array(total_recoverd).reshape(-1,1)"
   ]
  },
  {
   "cell_type": "code",
   "execution_count": 90,
   "metadata": {},
   "outputs": [
    {
     "data": {
      "text/plain": [
       "array([[  0],\n",
       "       [  1],\n",
       "       [  2],\n",
       "       [  3],\n",
       "       [  4],\n",
       "       [  5],\n",
       "       [  6],\n",
       "       [  7],\n",
       "       [  8],\n",
       "       [  9],\n",
       "       [ 10],\n",
       "       [ 11],\n",
       "       [ 12],\n",
       "       [ 13],\n",
       "       [ 14],\n",
       "       [ 15],\n",
       "       [ 16],\n",
       "       [ 17],\n",
       "       [ 18],\n",
       "       [ 19],\n",
       "       [ 20],\n",
       "       [ 21],\n",
       "       [ 22],\n",
       "       [ 23],\n",
       "       [ 24],\n",
       "       [ 25],\n",
       "       [ 26],\n",
       "       [ 27],\n",
       "       [ 28],\n",
       "       [ 29],\n",
       "       [ 30],\n",
       "       [ 31],\n",
       "       [ 32],\n",
       "       [ 33],\n",
       "       [ 34],\n",
       "       [ 35],\n",
       "       [ 36],\n",
       "       [ 37],\n",
       "       [ 38],\n",
       "       [ 39],\n",
       "       [ 40],\n",
       "       [ 41],\n",
       "       [ 42],\n",
       "       [ 43],\n",
       "       [ 44],\n",
       "       [ 45],\n",
       "       [ 46],\n",
       "       [ 47],\n",
       "       [ 48],\n",
       "       [ 49],\n",
       "       [ 50],\n",
       "       [ 51],\n",
       "       [ 52],\n",
       "       [ 53],\n",
       "       [ 54],\n",
       "       [ 55],\n",
       "       [ 56],\n",
       "       [ 57],\n",
       "       [ 58],\n",
       "       [ 59],\n",
       "       [ 60],\n",
       "       [ 61],\n",
       "       [ 62],\n",
       "       [ 63],\n",
       "       [ 64],\n",
       "       [ 65],\n",
       "       [ 66],\n",
       "       [ 67],\n",
       "       [ 68],\n",
       "       [ 69],\n",
       "       [ 70],\n",
       "       [ 71],\n",
       "       [ 72],\n",
       "       [ 73],\n",
       "       [ 74],\n",
       "       [ 75],\n",
       "       [ 76],\n",
       "       [ 77],\n",
       "       [ 78],\n",
       "       [ 79],\n",
       "       [ 80],\n",
       "       [ 81],\n",
       "       [ 82],\n",
       "       [ 83],\n",
       "       [ 84],\n",
       "       [ 85],\n",
       "       [ 86],\n",
       "       [ 87],\n",
       "       [ 88],\n",
       "       [ 89],\n",
       "       [ 90],\n",
       "       [ 91],\n",
       "       [ 92],\n",
       "       [ 93],\n",
       "       [ 94],\n",
       "       [ 95],\n",
       "       [ 96],\n",
       "       [ 97],\n",
       "       [ 98],\n",
       "       [ 99],\n",
       "       [100]])"
      ]
     },
     "execution_count": 90,
     "metadata": {},
     "output_type": "execute_result"
    }
   ],
   "source": [
    "days_since_1_22"
   ]
  },
  {
   "cell_type": "code",
   "execution_count": 91,
   "metadata": {},
   "outputs": [
    {
     "data": {
      "text/plain": [
       "array([[    17],\n",
       "       [    18],\n",
       "       [    26],\n",
       "       [    42],\n",
       "       [    56],\n",
       "       [    82],\n",
       "       [   131],\n",
       "       [   133],\n",
       "       [   171],\n",
       "       [   213],\n",
       "       [   259],\n",
       "       [   362],\n",
       "       [   426],\n",
       "       [   492],\n",
       "       [   564],\n",
       "       [   634],\n",
       "       [   719],\n",
       "       [   806],\n",
       "       [   906],\n",
       "       [  1013],\n",
       "       [  1113],\n",
       "       [  1118],\n",
       "       [  1371],\n",
       "       [  1523],\n",
       "       [  1666],\n",
       "       [  1770],\n",
       "       [  1868],\n",
       "       [  2007],\n",
       "       [  2122],\n",
       "       [  2247],\n",
       "       [  2251],\n",
       "       [  2458],\n",
       "       [  2469],\n",
       "       [  2629],\n",
       "       [  2708],\n",
       "       [  2770],\n",
       "       [  2814],\n",
       "       [  2872],\n",
       "       [  2941],\n",
       "       [  2996],\n",
       "       [  3085],\n",
       "       [  3160],\n",
       "       [  3254],\n",
       "       [  3347],\n",
       "       [  3459],\n",
       "       [  3558],\n",
       "       [  3801],\n",
       "       [  3987],\n",
       "       [  4263],\n",
       "       [  4614],\n",
       "       [  4722],\n",
       "       [  5408],\n",
       "       [  5830],\n",
       "       [  6472],\n",
       "       [  7150],\n",
       "       [  7956],\n",
       "       [  8823],\n",
       "       [  9946],\n",
       "       [ 11422],\n",
       "       [ 13125],\n",
       "       [ 14825],\n",
       "       [ 16759],\n",
       "       [ 19014],\n",
       "       [ 21785],\n",
       "       [ 24788],\n",
       "       [ 28288],\n",
       "       [ 31797],\n",
       "       [ 35323],\n",
       "       [ 39439],\n",
       "       [ 44238],\n",
       "       [ 49675],\n",
       "       [ 55817],\n",
       "       [ 61812],\n",
       "       [ 67981],\n",
       "       [ 73076],\n",
       "       [ 78767],\n",
       "       [ 86662],\n",
       "       [ 93354],\n",
       "       [100882],\n",
       "       [108113],\n",
       "       [114146],\n",
       "       [119853],\n",
       "       [125561],\n",
       "       [132456],\n",
       "       [140677],\n",
       "       [147965],\n",
       "       [156824],\n",
       "       [163234],\n",
       "       [167797],\n",
       "       [173123],\n",
       "       [180268],\n",
       "       [186945],\n",
       "       [193698],\n",
       "       [200030],\n",
       "       [206218],\n",
       "       [209931],\n",
       "       [214515],\n",
       "       [220830],\n",
       "       [227696],\n",
       "       [233388],\n",
       "       [238650]], dtype=int64)"
      ]
     },
     "execution_count": 91,
     "metadata": {},
     "output_type": "execute_result"
    }
   ],
   "source": [
    "total_deaths"
   ]
  },
  {
   "cell_type": "code",
   "execution_count": 92,
   "metadata": {},
   "outputs": [
    {
     "data": {
      "text/plain": [
       "array([[     28],\n",
       "       [     30],\n",
       "       [     36],\n",
       "       [     39],\n",
       "       [     52],\n",
       "       [     61],\n",
       "       [    107],\n",
       "       [    126],\n",
       "       [    143],\n",
       "       [    222],\n",
       "       [    284],\n",
       "       [    472],\n",
       "       [    623],\n",
       "       [    852],\n",
       "       [   1124],\n",
       "       [   1487],\n",
       "       [   2011],\n",
       "       [   2616],\n",
       "       [   3244],\n",
       "       [   3946],\n",
       "       [   4683],\n",
       "       [   5150],\n",
       "       [   6295],\n",
       "       [   8058],\n",
       "       [   9395],\n",
       "       [  10865],\n",
       "       [  12583],\n",
       "       [  14352],\n",
       "       [  16121],\n",
       "       [  18177],\n",
       "       [  18890],\n",
       "       [  22886],\n",
       "       [  23394],\n",
       "       [  25227],\n",
       "       [  27905],\n",
       "       [  30384],\n",
       "       [  33277],\n",
       "       [  36711],\n",
       "       [  39782],\n",
       "       [  42716],\n",
       "       [  45602],\n",
       "       [  48228],\n",
       "       [  51170],\n",
       "       [  53796],\n",
       "       [  55865],\n",
       "       [  58358],\n",
       "       [  60694],\n",
       "       [  62494],\n",
       "       [  64404],\n",
       "       [  67003],\n",
       "       [  68324],\n",
       "       [  70251],\n",
       "       [  72624],\n",
       "       [  76034],\n",
       "       [  78088],\n",
       "       [  80840],\n",
       "       [  83312],\n",
       "       [  84975],\n",
       "       [  87420],\n",
       "       [  91692],\n",
       "       [  97899],\n",
       "       [  98351],\n",
       "       [ 108000],\n",
       "       [ 113787],\n",
       "       [ 122150],\n",
       "       [ 130915],\n",
       "       [ 139415],\n",
       "       [ 149082],\n",
       "       [ 164566],\n",
       "       [ 178034],\n",
       "       [ 193177],\n",
       "       [ 210263],\n",
       "       [ 225796],\n",
       "       [ 246152],\n",
       "       [ 260012],\n",
       "       [ 276515],\n",
       "       [ 300054],\n",
       "       [ 328661],\n",
       "       [ 353975],\n",
       "       [ 376096],\n",
       "       [ 402110],\n",
       "       [ 421722],\n",
       "       [ 448655],\n",
       "       [ 474261],\n",
       "       [ 511019],\n",
       "       [ 542107],\n",
       "       [ 568343],\n",
       "       [ 592319],\n",
       "       [ 623912],\n",
       "       [ 645935],\n",
       "       [ 680532],\n",
       "       [ 710702],\n",
       "       [ 739672],\n",
       "       [ 790374],\n",
       "       [ 818192],\n",
       "       [ 846763],\n",
       "       [ 874457],\n",
       "       [ 907832],\n",
       "       [ 949315],\n",
       "       [1014775],\n",
       "       [1053327]], dtype=int64)"
      ]
     },
     "execution_count": 92,
     "metadata": {},
     "output_type": "execute_result"
    }
   ],
   "source": [
    "total_recovered"
   ]
  },
  {
   "cell_type": "markdown",
   "metadata": {},
   "source": [
    "### __- Future Forecasting for the Next 10 Days :__"
   ]
  },
  {
   "cell_type": "code",
   "execution_count": 93,
   "metadata": {},
   "outputs": [],
   "source": [
    "days_in_future=10\n",
    "future_forecast = np.array([i for i in range(len(dates)+days_in_future)]).reshape(-1,1)\n",
    "adjusted_dates = future_forecast[:-10]"
   ]
  },
  {
   "cell_type": "code",
   "execution_count": 94,
   "metadata": {},
   "outputs": [
    {
     "data": {
      "text/plain": [
       "array([[  0],\n",
       "       [  1],\n",
       "       [  2],\n",
       "       [  3],\n",
       "       [  4],\n",
       "       [  5],\n",
       "       [  6],\n",
       "       [  7],\n",
       "       [  8],\n",
       "       [  9],\n",
       "       [ 10],\n",
       "       [ 11],\n",
       "       [ 12],\n",
       "       [ 13],\n",
       "       [ 14],\n",
       "       [ 15],\n",
       "       [ 16],\n",
       "       [ 17],\n",
       "       [ 18],\n",
       "       [ 19],\n",
       "       [ 20],\n",
       "       [ 21],\n",
       "       [ 22],\n",
       "       [ 23],\n",
       "       [ 24],\n",
       "       [ 25],\n",
       "       [ 26],\n",
       "       [ 27],\n",
       "       [ 28],\n",
       "       [ 29],\n",
       "       [ 30],\n",
       "       [ 31],\n",
       "       [ 32],\n",
       "       [ 33],\n",
       "       [ 34],\n",
       "       [ 35],\n",
       "       [ 36],\n",
       "       [ 37],\n",
       "       [ 38],\n",
       "       [ 39],\n",
       "       [ 40],\n",
       "       [ 41],\n",
       "       [ 42],\n",
       "       [ 43],\n",
       "       [ 44],\n",
       "       [ 45],\n",
       "       [ 46],\n",
       "       [ 47],\n",
       "       [ 48],\n",
       "       [ 49],\n",
       "       [ 50],\n",
       "       [ 51],\n",
       "       [ 52],\n",
       "       [ 53],\n",
       "       [ 54],\n",
       "       [ 55],\n",
       "       [ 56],\n",
       "       [ 57],\n",
       "       [ 58],\n",
       "       [ 59],\n",
       "       [ 60],\n",
       "       [ 61],\n",
       "       [ 62],\n",
       "       [ 63],\n",
       "       [ 64],\n",
       "       [ 65],\n",
       "       [ 66],\n",
       "       [ 67],\n",
       "       [ 68],\n",
       "       [ 69],\n",
       "       [ 70],\n",
       "       [ 71],\n",
       "       [ 72],\n",
       "       [ 73],\n",
       "       [ 74],\n",
       "       [ 75],\n",
       "       [ 76],\n",
       "       [ 77],\n",
       "       [ 78],\n",
       "       [ 79],\n",
       "       [ 80],\n",
       "       [ 81],\n",
       "       [ 82],\n",
       "       [ 83],\n",
       "       [ 84],\n",
       "       [ 85],\n",
       "       [ 86],\n",
       "       [ 87],\n",
       "       [ 88],\n",
       "       [ 89],\n",
       "       [ 90],\n",
       "       [ 91],\n",
       "       [ 92],\n",
       "       [ 93],\n",
       "       [ 94],\n",
       "       [ 95],\n",
       "       [ 96],\n",
       "       [ 97],\n",
       "       [ 98],\n",
       "       [ 99],\n",
       "       [100],\n",
       "       [101],\n",
       "       [102],\n",
       "       [103],\n",
       "       [104],\n",
       "       [105],\n",
       "       [106],\n",
       "       [107],\n",
       "       [108],\n",
       "       [109],\n",
       "       [110]])"
      ]
     },
     "execution_count": 94,
     "metadata": {},
     "output_type": "execute_result"
    }
   ],
   "source": [
    "future_forecast"
   ]
  },
  {
   "cell_type": "markdown",
   "metadata": {},
   "source": [
    "### __- Converting All Integers into Datetime for Better Visualiztion :__"
   ]
  },
  {
   "cell_type": "code",
   "execution_count": 95,
   "metadata": {},
   "outputs": [],
   "source": [
    "start = '1/22/2020'\n",
    "start_date = datetime.datetime.strptime(start,'%m/%d/%Y')\n",
    "future_forecast_dates=[]\n",
    "for i in range(len(future_forecast)):\n",
    "    future_forecast_dates.append((start_date + datetime.timedelta(days=i)).strftime('%m/%d/%Y'))"
   ]
  },
  {
   "cell_type": "markdown",
   "metadata": {},
   "source": [
    "### __- Visualization within the Latest Data 15 of March :__"
   ]
  },
  {
   "cell_type": "code",
   "execution_count": 96,
   "metadata": {},
   "outputs": [],
   "source": [
    "latest_confirmed = confirmed_cases[dates[-1]]\n",
    "latest_deaths = deaths_reported[dates[-1]]\n",
    "latest_recoveries = recovered_cases[dates[-1]]\n",
    " "
   ]
  },
  {
   "cell_type": "code",
   "execution_count": 97,
   "metadata": {},
   "outputs": [
    {
     "data": {
      "text/plain": [
       "0       2335\n",
       "1        782\n",
       "2       4154\n",
       "3        745\n",
       "4         30\n",
       "5         25\n",
       "6       4532\n",
       "7       2148\n",
       "8        106\n",
       "9       3030\n",
       "10        27\n",
       "11      1034\n",
       "12       438\n",
       "13       221\n",
       "14      1371\n",
       "15       551\n",
       "16     15531\n",
       "17      1854\n",
       "18        81\n",
       "19      3170\n",
       "20      8238\n",
       "21        81\n",
       "22     14917\n",
       "23     49032\n",
       "24        90\n",
       "25         7\n",
       "26      1229\n",
       "27      1781\n",
       "28     92202\n",
       "29       138\n",
       "       ...  \n",
       "236       24\n",
       "237       18\n",
       "238        0\n",
       "239       19\n",
       "240       63\n",
       "241      353\n",
       "242      257\n",
       "243      508\n",
       "244       15\n",
       "245        5\n",
       "246       11\n",
       "247      806\n",
       "248      151\n",
       "249        3\n",
       "250        6\n",
       "251       12\n",
       "252        9\n",
       "253       23\n",
       "254       11\n",
       "255      136\n",
       "256        6\n",
       "257       37\n",
       "258       13\n",
       "259        1\n",
       "260       45\n",
       "261        6\n",
       "262       16\n",
       "263        7\n",
       "264        1\n",
       "265       15\n",
       "Name: 5/1/20, Length: 266, dtype: int64"
      ]
     },
     "execution_count": 97,
     "metadata": {},
     "output_type": "execute_result"
    }
   ],
   "source": [
    "latest_confirmed"
   ]
  },
  {
   "cell_type": "code",
   "execution_count": 98,
   "metadata": {},
   "outputs": [
    {
     "data": {
      "text/plain": [
       "0        68\n",
       "1        31\n",
       "2       453\n",
       "3        43\n",
       "4         2\n",
       "5         3\n",
       "6       225\n",
       "7        33\n",
       "8         3\n",
       "9        41\n",
       "10        0\n",
       "11        6\n",
       "12        4\n",
       "13       13\n",
       "14       18\n",
       "15        8\n",
       "16      589\n",
       "17       25\n",
       "18       11\n",
       "19        8\n",
       "20      170\n",
       "21        7\n",
       "22       93\n",
       "23     7703\n",
       "24        2\n",
       "25        0\n",
       "26       66\n",
       "27       70\n",
       "28     6412\n",
       "29        1\n",
       "       ... \n",
       "236       0\n",
       "237       2\n",
       "238       0\n",
       "239       0\n",
       "240       3\n",
       "241       2\n",
       "242       1\n",
       "243      26\n",
       "244       0\n",
       "245       0\n",
       "246       0\n",
       "247      22\n",
       "248       6\n",
       "249       0\n",
       "250       1\n",
       "251       1\n",
       "252       2\n",
       "253       1\n",
       "254       1\n",
       "255       7\n",
       "256       0\n",
       "257       3\n",
       "258       0\n",
       "259       0\n",
       "260       0\n",
       "261       0\n",
       "262       1\n",
       "263       2\n",
       "264       0\n",
       "265       0\n",
       "Name: 5/1/20, Length: 266, dtype: int64"
      ]
     },
     "execution_count": 98,
     "metadata": {},
     "output_type": "execute_result"
    }
   ],
   "source": [
    "latest_deaths"
   ]
  },
  {
   "cell_type": "code",
   "execution_count": 99,
   "metadata": {},
   "outputs": [
    {
     "data": {
      "text/plain": [
       "0         310\n",
       "1         488\n",
       "2        1821\n",
       "3         468\n",
       "4          11\n",
       "5          15\n",
       "6        1292\n",
       "7         977\n",
       "8         103\n",
       "9        2293\n",
       "10         24\n",
       "11        965\n",
       "12        422\n",
       "13        157\n",
       "14       1300\n",
       "15        511\n",
       "16      13110\n",
       "17       1365\n",
       "18         24\n",
       "19       1555\n",
       "20        174\n",
       "21         39\n",
       "22       2918\n",
       "23      11892\n",
       "24         13\n",
       "25         42\n",
       "26          5\n",
       "27        134\n",
       "28        755\n",
       "29      38039\n",
       "        ...  \n",
       "222         2\n",
       "223         0\n",
       "224       435\n",
       "225    164015\n",
       "226      1212\n",
       "227       148\n",
       "228       219\n",
       "229        74\n",
       "230         5\n",
       "231        76\n",
       "232         8\n",
       "233       271\n",
       "234        31\n",
       "235         3\n",
       "236         3\n",
       "237         5\n",
       "238         0\n",
       "239         8\n",
       "240         4\n",
       "241        21\n",
       "242         0\n",
       "243         9\n",
       "244        13\n",
       "245         0\n",
       "246         0\n",
       "247         5\n",
       "248         4\n",
       "249         1\n",
       "250         0\n",
       "251         0\n",
       "Name: 5/1/20, Length: 252, dtype: int64"
      ]
     },
     "execution_count": 99,
     "metadata": {},
     "output_type": "execute_result"
    }
   ],
   "source": [
    "latest_recoveries"
   ]
  },
  {
   "cell_type": "markdown",
   "metadata": {},
   "source": [
    "### __- Find the List of Unique Countries :__"
   ]
  },
  {
   "cell_type": "code",
   "execution_count": 100,
   "metadata": {},
   "outputs": [],
   "source": [
    "unique_countries = list(confirmed_cases['Country/Region'].unique())"
   ]
  },
  {
   "cell_type": "code",
   "execution_count": 101,
   "metadata": {},
   "outputs": [
    {
     "data": {
      "text/plain": [
       "['Afghanistan',\n",
       " 'Albania',\n",
       " 'Algeria',\n",
       " 'Andorra',\n",
       " 'Angola',\n",
       " 'Antigua and Barbuda',\n",
       " 'Argentina',\n",
       " 'Armenia',\n",
       " 'Australia',\n",
       " 'Austria',\n",
       " 'Azerbaijan',\n",
       " 'Bahamas',\n",
       " 'Bahrain',\n",
       " 'Bangladesh',\n",
       " 'Barbados',\n",
       " 'Belarus',\n",
       " 'Belgium',\n",
       " 'Benin',\n",
       " 'Bhutan',\n",
       " 'Bolivia',\n",
       " 'Bosnia and Herzegovina',\n",
       " 'Brazil',\n",
       " 'Brunei',\n",
       " 'Bulgaria',\n",
       " 'Burkina Faso',\n",
       " 'Cabo Verde',\n",
       " 'Cambodia',\n",
       " 'Cameroon',\n",
       " 'Canada',\n",
       " 'Central African Republic',\n",
       " 'Chad',\n",
       " 'Chile',\n",
       " 'China',\n",
       " 'Colombia',\n",
       " 'Congo (Brazzaville)',\n",
       " 'Congo (Kinshasa)',\n",
       " 'Costa Rica',\n",
       " \"Cote d'Ivoire\",\n",
       " 'Croatia',\n",
       " 'Diamond Princess',\n",
       " 'Cuba',\n",
       " 'Cyprus',\n",
       " 'Czechia',\n",
       " 'Denmark',\n",
       " 'Djibouti',\n",
       " 'Dominican Republic',\n",
       " 'Ecuador',\n",
       " 'Egypt',\n",
       " 'El Salvador',\n",
       " 'Equatorial Guinea',\n",
       " 'Eritrea',\n",
       " 'Estonia',\n",
       " 'Eswatini',\n",
       " 'Ethiopia',\n",
       " 'Fiji',\n",
       " 'Finland',\n",
       " 'France',\n",
       " 'Gabon',\n",
       " 'Gambia',\n",
       " 'Georgia',\n",
       " 'Germany',\n",
       " 'Ghana',\n",
       " 'Greece',\n",
       " 'Guatemala',\n",
       " 'Guinea',\n",
       " 'Guyana',\n",
       " 'Haiti',\n",
       " 'Holy See',\n",
       " 'Honduras',\n",
       " 'Hungary',\n",
       " 'Iceland',\n",
       " 'India',\n",
       " 'Indonesia',\n",
       " 'Iran',\n",
       " 'Iraq',\n",
       " 'Ireland',\n",
       " 'Israel',\n",
       " 'Italy',\n",
       " 'Jamaica',\n",
       " 'Japan',\n",
       " 'Jordan',\n",
       " 'Kazakhstan',\n",
       " 'Kenya',\n",
       " 'Korea, South',\n",
       " 'Kuwait',\n",
       " 'Kyrgyzstan',\n",
       " 'Latvia',\n",
       " 'Lebanon',\n",
       " 'Liberia',\n",
       " 'Liechtenstein',\n",
       " 'Lithuania',\n",
       " 'Luxembourg',\n",
       " 'Madagascar',\n",
       " 'Malaysia',\n",
       " 'Maldives',\n",
       " 'Malta',\n",
       " 'Mauritania',\n",
       " 'Mauritius',\n",
       " 'Mexico',\n",
       " 'Moldova',\n",
       " 'Monaco',\n",
       " 'Mongolia',\n",
       " 'Montenegro',\n",
       " 'Morocco',\n",
       " 'Namibia',\n",
       " 'Nepal',\n",
       " 'Netherlands',\n",
       " 'New Zealand',\n",
       " 'Nicaragua',\n",
       " 'Niger',\n",
       " 'Nigeria',\n",
       " 'North Macedonia',\n",
       " 'Norway',\n",
       " 'Oman',\n",
       " 'Pakistan',\n",
       " 'Panama',\n",
       " 'Papua New Guinea',\n",
       " 'Paraguay',\n",
       " 'Peru',\n",
       " 'Philippines',\n",
       " 'Poland',\n",
       " 'Portugal',\n",
       " 'Qatar',\n",
       " 'Romania',\n",
       " 'Russia',\n",
       " 'Rwanda',\n",
       " 'Saint Lucia',\n",
       " 'Saint Vincent and the Grenadines',\n",
       " 'San Marino',\n",
       " 'Saudi Arabia',\n",
       " 'Senegal',\n",
       " 'Serbia',\n",
       " 'Seychelles',\n",
       " 'Singapore',\n",
       " 'Slovakia',\n",
       " 'Slovenia',\n",
       " 'Somalia',\n",
       " 'South Africa',\n",
       " 'Spain',\n",
       " 'Sri Lanka',\n",
       " 'Sudan',\n",
       " 'Suriname',\n",
       " 'Sweden',\n",
       " 'Switzerland',\n",
       " 'Taiwan*',\n",
       " 'Tanzania',\n",
       " 'Thailand',\n",
       " 'Togo',\n",
       " 'Trinidad and Tobago',\n",
       " 'Tunisia',\n",
       " 'Turkey',\n",
       " 'Uganda',\n",
       " 'Ukraine',\n",
       " 'United Arab Emirates',\n",
       " 'United Kingdom',\n",
       " 'Uruguay',\n",
       " 'US',\n",
       " 'Uzbekistan',\n",
       " 'Venezuela',\n",
       " 'Vietnam',\n",
       " 'Zambia',\n",
       " 'Zimbabwe',\n",
       " 'Dominica',\n",
       " 'Grenada',\n",
       " 'Mozambique',\n",
       " 'Syria',\n",
       " 'Timor-Leste',\n",
       " 'Belize',\n",
       " 'Laos',\n",
       " 'Libya',\n",
       " 'West Bank and Gaza',\n",
       " 'Guinea-Bissau',\n",
       " 'Mali',\n",
       " 'Saint Kitts and Nevis',\n",
       " 'Kosovo',\n",
       " 'Burma',\n",
       " 'MS Zaandam',\n",
       " 'Botswana',\n",
       " 'Burundi',\n",
       " 'Sierra Leone',\n",
       " 'Malawi',\n",
       " 'South Sudan',\n",
       " 'Western Sahara',\n",
       " 'Sao Tome and Principe',\n",
       " 'Yemen',\n",
       " 'Comoros',\n",
       " 'Tajikistan']"
      ]
     },
     "execution_count": 101,
     "metadata": {},
     "output_type": "execute_result"
    }
   ],
   "source": [
    "unique_countries"
   ]
  },
  {
   "cell_type": "markdown",
   "metadata": {},
   "source": [
    "### __- Total Number of Confirmed Cases by each Country :__"
   ]
  },
  {
   "cell_type": "code",
   "execution_count": 102,
   "metadata": {},
   "outputs": [],
   "source": [
    "country_confirmed_cases = []\n",
    "no_cases = []\n",
    "for i in unique_countries :\n",
    "    cases = latest_confirmed[confirmed_cases['Country/Region']==i].sum()\n",
    "    if cases > 0:\n",
    "        country_confirmed_cases.append(cases)\n",
    "    else:\n",
    "        no_cases.append(i)\n",
    "\n",
    "for i in no_cases:\n",
    "    unique_countries.remove(i)\n",
    "    \n",
    "    \n",
    "unique_countries = [ k for k , v in sorted(zip(unique_countries,country_confirmed_cases),key = operator.itemgetter(1),reverse=1)]\n",
    "\n",
    "for i in range(len(unique_countries)):\n",
    "    country_confirmed_cases[i] = latest_confirmed[confirmed_cases['Country/Region']==unique_countries[i]].sum()"
   ]
  },
  {
   "cell_type": "markdown",
   "metadata": {},
   "source": [
    "### __- Number of Cases per Country / Regions :__"
   ]
  },
  {
   "cell_type": "code",
   "execution_count": 103,
   "metadata": {},
   "outputs": [
    {
     "name": "stdout",
     "output_type": "stream",
     "text": [
      "CONFIRMED CASES ORDER BY COUNTRIES / REGIONS :\n",
      "US:1103461cases\n",
      "Spain:213435cases\n",
      "Italy:207428cases\n",
      "United Kingdom:178685cases\n",
      "France:167305cases\n",
      "Germany:164077cases\n",
      "Turkey:122392cases\n",
      "Russia:114431cases\n",
      "Iran:95646cases\n",
      "Brazil:92202cases\n",
      "China:83959cases\n",
      "Canada:56343cases\n",
      "Belgium:49032cases\n",
      "Peru:40459cases\n",
      "Netherlands:39989cases\n",
      "India:37257cases\n",
      "Switzerland:29705cases\n",
      "Ecuador:26336cases\n",
      "Portugal:25351cases\n",
      "Saudi Arabia:24097cases\n",
      "Sweden:21520cases\n",
      "Ireland:20833cases\n",
      "Mexico:20739cases\n",
      "Pakistan:18114cases\n",
      "Singapore:17101cases\n",
      "Chile:17008cases\n",
      "Israel:16101cases\n",
      "Austria:15531cases\n",
      "Belarus:14917cases\n",
      "Japan:14305cases\n",
      "Qatar:14096cases\n",
      "Poland:13105cases\n",
      "United Arab Emirates:13038cases\n",
      "Romania:12567cases\n",
      "Ukraine:10861cases\n",
      "Korea, South:10780cases\n",
      "Indonesia:10551cases\n",
      "Denmark:9509cases\n",
      "Serbia:9009cases\n",
      "Philippines:8772cases\n",
      "Bangladesh:8238cases\n",
      "Norway:7783cases\n",
      "Czechia:7737cases\n",
      "Dominican Republic:7288cases\n",
      "Colombia:7006cases\n",
      "Australia:6778cases\n",
      "Panama:6720cases\n",
      "Malaysia:6071cases\n",
      "South Africa:5951cases\n",
      "Egypt:5895cases\n",
      "Finland:5051cases\n",
      "Morocco:4569cases\n",
      "Argentina:4532cases\n",
      "Kuwait:4377cases\n",
      "Algeria:4154cases\n",
      "Moldova:3980cases\n",
      "Luxembourg:3802cases\n",
      "Kazakhstan:3597cases\n",
      "Bahrain:3170cases\n",
      "Thailand:2960cases\n",
      "Hungary:2863cases\n",
      "Greece:2612cases\n",
      "Oman:2447cases\n",
      "Afghanistan:2335cases\n",
      "Nigeria:2170cases\n",
      "Iraq:2153cases\n",
      "Armenia:2148cases\n",
      "Uzbekistan:2086cases\n",
      "Croatia:2085cases\n",
      "Ghana:2074cases\n",
      "Azerbaijan:1854cases\n",
      "Cameroon:1832cases\n",
      "Iceland:1798cases\n",
      "Bosnia and Herzegovina:1781cases\n",
      "Estonia:1694cases\n",
      "Bulgaria:1555cases\n",
      "Cuba:1537cases\n",
      "Guinea:1537cases\n",
      "North Macedonia:1494cases\n",
      "New Zealand:1485cases\n",
      "Slovenia:1434cases\n",
      "Slovakia:1403cases\n",
      "Lithuania:1399cases\n",
      "Cote d'Ivoire:1333cases\n",
      "Bolivia:1229cases\n",
      "Djibouti:1097cases\n",
      "Senegal:1024cases\n",
      "Tunisia:998cases\n",
      "Latvia:870cases\n",
      "Cyprus:857cases\n",
      "Kosovo:806cases\n",
      "Honduras:804cases\n",
      "Albania:782cases\n",
      "Kyrgyzstan:756cases\n",
      "Andorra:745cases\n",
      "Lebanon:729cases\n",
      "Niger:728cases\n",
      "Costa Rica:725cases\n",
      "Diamond Princess:712cases\n",
      "Sri Lanka:690cases\n",
      "Burkina Faso:649cases\n",
      "Uruguay:648cases\n",
      "Guatemala:644cases\n",
      "Congo (Kinshasa):604cases\n",
      "Somalia:601cases\n",
      "San Marino:580cases\n",
      "Georgia:566cases\n",
      "Sudan:533cases\n",
      "Mali:508cases\n",
      "Maldives:491cases\n",
      "Tanzania:480cases\n",
      "Malta:467cases\n",
      "Jordan:459cases\n",
      "Jamaica:432cases\n",
      "Taiwan*:429cases\n",
      "El Salvador:424cases\n",
      "Kenya:411cases\n",
      "West Bank and Gaza:353cases\n",
      "Venezuela:335cases\n",
      "Paraguay:333cases\n",
      "Mauritius:332cases\n",
      "Montenegro:322cases\n",
      "Equatorial Guinea:315cases\n",
      "Gabon:276cases\n",
      "Vietnam:270cases\n",
      "Guinea-Bissau:257cases\n",
      "Rwanda:249cases\n",
      "Congo (Brazzaville):229cases\n",
      "Liberia:152cases\n",
      "Burma:151cases\n",
      "Brunei:138cases\n",
      "Sierra Leone:136cases\n",
      "Ethiopia:133cases\n",
      "Madagascar:132cases\n",
      "Togo:123cases\n",
      "Cabo Verde:122cases\n",
      "Cambodia:122cases\n",
      "Trinidad and Tobago:116cases\n",
      "Zambia:109cases\n",
      "Eswatini:106cases\n",
      "Monaco:95cases\n",
      "Benin:90cases\n",
      "Haiti:85cases\n",
      "Uganda:85cases\n",
      "Guyana:82cases\n",
      "Liechtenstein:82cases\n",
      "Bahamas:81cases\n",
      "Barbados:81cases\n",
      "Mozambique:79cases\n",
      "Chad:73cases\n",
      "Central African Republic:72cases\n",
      "Libya:63cases\n",
      "Nepal:59cases\n",
      "South Sudan:45cases\n",
      "Syria:44cases\n",
      "Zimbabwe:40cases\n",
      "Eritrea:39cases\n",
      "Mongolia:38cases\n",
      "Malawi:37cases\n",
      "Angola:30cases\n",
      "Antigua and Barbuda:25cases\n",
      "Timor-Leste:24cases\n",
      "Botswana:23cases\n",
      "Grenada:20cases\n",
      "Laos:19cases\n",
      "Fiji:18cases\n",
      "Belize:18cases\n",
      "Saint Lucia:17cases\n",
      "Namibia:16cases\n",
      "Saint Vincent and the Grenadines:16cases\n",
      "Dominica:16cases\n",
      "Sao Tome and Principe:16cases\n",
      "Saint Kitts and Nevis:15cases\n",
      "Tajikistan:15cases\n",
      "Nicaragua:14cases\n",
      "Gambia:12cases\n",
      "Holy See:11cases\n",
      "Seychelles:11cases\n",
      "Burundi:11cases\n",
      "Suriname:10cases\n",
      "MS Zaandam:9cases\n",
      "Mauritania:8cases\n",
      "Papua New Guinea:8cases\n",
      "Bhutan:7cases\n",
      "Yemen:7cases\n",
      "Western Sahara:6cases\n",
      "Comoros:1cases\n"
     ]
    }
   ],
   "source": [
    "print('CONFIRMED CASES ORDER BY COUNTRIES / REGIONS :')\n",
    "for i in range(len(unique_countries)):\n",
    "    print(f'{unique_countries[i]}:{country_confirmed_cases[i]}cases')"
   ]
  },
  {
   "cell_type": "markdown",
   "metadata": {},
   "source": [
    "### __- Finding List of Unique Provinces :__"
   ]
  },
  {
   "cell_type": "code",
   "execution_count": 104,
   "metadata": {},
   "outputs": [],
   "source": [
    "unique_provinces = list(confirmed_cases['Province/State'].unique())"
   ]
  },
  {
   "cell_type": "code",
   "execution_count": 105,
   "metadata": {},
   "outputs": [
    {
     "data": {
      "text/plain": [
       "[nan,\n",
       " 'Australian Capital Territory',\n",
       " 'New South Wales',\n",
       " 'Northern Territory',\n",
       " 'Queensland',\n",
       " 'South Australia',\n",
       " 'Tasmania',\n",
       " 'Victoria',\n",
       " 'Western Australia',\n",
       " 'Alberta',\n",
       " 'British Columbia',\n",
       " 'Grand Princess',\n",
       " 'Manitoba',\n",
       " 'New Brunswick',\n",
       " 'Newfoundland and Labrador',\n",
       " 'Nova Scotia',\n",
       " 'Ontario',\n",
       " 'Prince Edward Island',\n",
       " 'Quebec',\n",
       " 'Saskatchewan',\n",
       " 'Anhui',\n",
       " 'Beijing',\n",
       " 'Chongqing',\n",
       " 'Fujian',\n",
       " 'Gansu',\n",
       " 'Guangdong',\n",
       " 'Guangxi',\n",
       " 'Guizhou',\n",
       " 'Hainan',\n",
       " 'Hebei',\n",
       " 'Heilongjiang',\n",
       " 'Henan',\n",
       " 'Hong Kong',\n",
       " 'Hubei',\n",
       " 'Hunan',\n",
       " 'Inner Mongolia',\n",
       " 'Jiangsu',\n",
       " 'Jiangxi',\n",
       " 'Jilin',\n",
       " 'Liaoning',\n",
       " 'Macau',\n",
       " 'Ningxia',\n",
       " 'Qinghai',\n",
       " 'Shaanxi',\n",
       " 'Shandong',\n",
       " 'Shanghai',\n",
       " 'Shanxi',\n",
       " 'Sichuan',\n",
       " 'Tianjin',\n",
       " 'Tibet',\n",
       " 'Xinjiang',\n",
       " 'Yunnan',\n",
       " 'Zhejiang',\n",
       " 'Faroe Islands',\n",
       " 'Greenland',\n",
       " 'French Guiana',\n",
       " 'French Polynesia',\n",
       " 'Guadeloupe',\n",
       " 'Mayotte',\n",
       " 'New Caledonia',\n",
       " 'Reunion',\n",
       " 'Saint Barthelemy',\n",
       " 'St Martin',\n",
       " 'Martinique',\n",
       " 'Aruba',\n",
       " 'Curacao',\n",
       " 'Sint Maarten',\n",
       " 'Bermuda',\n",
       " 'Cayman Islands',\n",
       " 'Channel Islands',\n",
       " 'Gibraltar',\n",
       " 'Isle of Man',\n",
       " 'Montserrat',\n",
       " 'Diamond Princess',\n",
       " 'Recovered',\n",
       " 'Northwest Territories',\n",
       " 'Yukon',\n",
       " 'Anguilla',\n",
       " 'British Virgin Islands',\n",
       " 'Turks and Caicos Islands',\n",
       " 'Bonaire, Sint Eustatius and Saba',\n",
       " 'Falkland Islands (Malvinas)',\n",
       " 'Saint Pierre and Miquelon']"
      ]
     },
     "execution_count": 105,
     "metadata": {},
     "output_type": "execute_result"
    }
   ],
   "source": [
    "unique_provinces"
   ]
  },
  {
   "cell_type": "code",
   "execution_count": 106,
   "metadata": {},
   "outputs": [],
   "source": [
    "outliers = ['Australian Capital Territory',\n",
    " 'New South Wales',\n",
    " 'Northern Territory',\n",
    " 'Queensland',\n",
    " 'South Australia',\n",
    " 'Tasmania',\n",
    " 'Victoria',\n",
    " 'Western Australia',\n",
    " 'Alberta',\n",
    " 'British Columbia',\n",
    " 'Grand Princess',\n",
    " 'Manitoba',\n",
    " 'New Brunswick',\n",
    " 'Newfoundland and Labrador',\n",
    " 'Nova Scotia',\n",
    " 'Ontario',\n",
    " 'Prince Edward Island',\n",
    " 'Quebec',\n",
    " 'Saskatchewan',\n",
    " 'Anhui',\n",
    " 'Beijing',\n",
    " 'Chongqing',\n",
    " 'Fujian',\n",
    " 'Gansu',\n",
    " 'Guangdong',\n",
    " 'Guangxi',\n",
    " 'Guizhou',\n",
    " 'Hainan',\n",
    " 'Hebei',\n",
    " 'Heilongjiang',\n",
    " 'Henan',\n",
    " 'Hong Kong',\n",
    " 'Hubei',\n",
    " 'Hunan',\n",
    " 'Inner Mongolia',\n",
    " 'Jiangsu',\n",
    " 'Jiangxi',\n",
    " 'Jilin',\n",
    " 'Liaoning',\n",
    " 'Macau',\n",
    " 'Ningxia',\n",
    " 'Qinghai',\n",
    " 'Shaanxi',\n",
    " 'Shandong',\n",
    " 'Shanghai',\n",
    " 'Shanxi',\n",
    " 'Sichuan',\n",
    " 'Tianjin',\n",
    " 'Tibet',\n",
    " 'Xinjiang',\n",
    " 'Yunnan',\n",
    " 'Zhejiang',\n",
    " 'Faroe Islands',\n",
    " 'Greenland',\n",
    " 'French Guiana',\n",
    " 'French Polynesia',\n",
    " 'Guadeloupe',\n",
    " 'Mayotte',\n",
    " 'New Caledonia',\n",
    " 'Reunion',\n",
    " 'Saint Barthelemy',\n",
    " 'St Martin',\n",
    " 'Martinique',\n",
    " 'Aruba',\n",
    " 'Curacao',\n",
    " 'Sint Maarten',\n",
    " 'Bermuda',\n",
    " 'Cayman Islands',\n",
    " 'Channel Islands',\n",
    " 'Gibraltar',\n",
    " 'Isle of Man',\n",
    " 'Montserrat',\n",
    " 'Diamond Princess',\n",
    " 'Recovered',\n",
    " 'Northwest Territories',\n",
    " 'Yukon',\n",
    " 'Anguilla',\n",
    " 'British Virgin Islands',\n",
    " 'Turks and Caicos Islands',\n",
    " 'Bonaire, Sint Eustatius and Saba',\n",
    " 'Falkland Islands (Malvinas)',\n",
    " 'Saint Pierre and Miquelon']\n"
   ]
  },
  {
   "cell_type": "code",
   "execution_count": 107,
   "metadata": {},
   "outputs": [],
   "source": [
    "for i in outliers:\n",
    "    unique_provinces.remove(i)"
   ]
  },
  {
   "cell_type": "markdown",
   "metadata": {},
   "source": [
    "### __- Finding Number of Confirmed Cases per Provinces , State or City :__"
   ]
  },
  {
   "cell_type": "code",
   "execution_count": 108,
   "metadata": {},
   "outputs": [],
   "source": [
    "province_confirmed_cases = []\n",
    "no_cases = []\n",
    "for i in unique_provinces:\n",
    "    cases = latest_confirmed[confirmed_cases['Province/State']==i].sum()\n",
    "    if cases > 0:\n",
    "        province_confirmed_cases.append(cases)\n",
    "    else:\n",
    "        no_cases.append(i)\n",
    "        \n",
    "for i in no_cases:\n",
    "    unique_provinces.remove(i)"
   ]
  },
  {
   "cell_type": "markdown",
   "metadata": {},
   "source": [
    "### __- Number of Cases per Province , State or City :__"
   ]
  },
  {
   "cell_type": "code",
   "execution_count": 109,
   "metadata": {},
   "outputs": [],
   "source": [
    "for i in range(len(unique_provinces)):\n",
    "    print(f'{unique_provinces[i]}:{province_confirmed_cases[i]} cases')"
   ]
  },
  {
   "cell_type": "markdown",
   "metadata": {},
   "source": [
    "### __- Handling nan values if any of them exist :__"
   ]
  },
  {
   "cell_type": "code",
   "execution_count": 110,
   "metadata": {},
   "outputs": [],
   "source": [
    "nan_indices = []\n",
    "\n",
    "for i in range(len(unique_provinces)):\n",
    "    if type(unique_provinces[i]) == float:\n",
    "        nan_indices.append(i)\n",
    "        \n",
    "unique_provinces = list(unique_provinces)\n",
    "province_confirmed_cases = list(province_confirmed_cases)\n",
    "        "
   ]
  },
  {
   "cell_type": "markdown",
   "metadata": {},
   "source": [
    "### __- Bar Graph for Total Confirmed Cases across different Countries :__"
   ]
  },
  {
   "cell_type": "code",
   "execution_count": 111,
   "metadata": {},
   "outputs": [
    {
     "data": {
      "image/png": "[encoded data removed]",
      "text/plain": [
       "<Figure size 2304x2304 with 1 Axes>"
      ]
     },
     "metadata": {
      "needs_background": "light"
     },
     "output_type": "display_data"
    }
   ],
   "source": [
    "plt.figure(figsize=(32,32))\n",
    "plt.barh(unique_countries,country_confirmed_cases)\n",
    "plt.title('NUMBER OF COVID - 19 CONFIRMED CASES IN COUNTRIES')\n",
    "plt.xlabel('Number of Covid - 19 Confirmed Cases')\n",
    "plt.show()"
   ]
  },
  {
   "cell_type": "markdown",
   "metadata": {},
   "source": [
    "### __- Bar Graph for Total Confirmed Cases between Mainland & Outside the Mainland China :__"
   ]
  },
  {
   "cell_type": "code",
   "execution_count": 112,
   "metadata": {},
   "outputs": [
    {
     "data": {
      "image/png": "[encoded data removed]",
      "text/plain": [
       "<Figure size 1080x360 with 1 Axes>"
      ]
     },
     "metadata": {
      "needs_background": "light"
     },
     "output_type": "display_data"
    }
   ],
   "source": [
    "china_confirmed = latest_confirmed[confirmed_cases['Country/Region']=='China'].sum()\n",
    "outside_mainland_china_confirmed = np.sum(country_confirmed_cases) - china_confirmed\n",
    "plt.figure(figsize=(15,5))\n",
    "plt.barh('MAINLAND CHINA',china_confirmed)\n",
    "plt.barh('OUTSIDE MAINLAND CHINA',outside_mainland_china_confirmed)\n",
    "plt.title('NUMBER OF CONFIRMED CORONAVIRUS CASES')\n",
    "plt.show()"
   ]
  },
  {
   "cell_type": "markdown",
   "metadata": {},
   "source": [
    "### __- Total Number of Cases in Mainland china & Outside of it :__"
   ]
  },
  {
   "cell_type": "code",
   "execution_count": 113,
   "metadata": {},
   "outputs": [
    {
     "name": "stdout",
     "output_type": "stream",
     "text": [
      "OUTSIDE MAINLAND CHINA CASES : 3259818 \n",
      "MAINLAND CHINA CASES : 83959 \n",
      "TOTAL CASES : 3343777 \n"
     ]
    }
   ],
   "source": [
    "print('OUTSIDE MAINLAND CHINA CASES : {} '.format(outside_mainland_china_confirmed))\n",
    "print('MAINLAND CHINA CASES : {} '.format(china_confirmed))\n",
    "print('TOTAL CASES : {} '.format(china_confirmed+outside_mainland_china_confirmed))"
   ]
  },
  {
   "cell_type": "markdown",
   "metadata": {},
   "source": [
    "### __- Here 10 Countries have Confirmed Cases & rest all comes in others Category :__"
   ]
  },
  {
   "cell_type": "code",
   "execution_count": 114,
   "metadata": {},
   "outputs": [],
   "source": [
    "visual_unique_countries = []\n",
    "visual_confirmed_cases = []\n",
    "others = np.sum(country_confirmed_cases[:10])\n",
    "for i in range(len(country_confirmed_cases[:10])):\n",
    "    visual_unique_countries.append('others')\n",
    "    visual_confirmed_cases.append(others)"
   ]
  },
  {
   "cell_type": "markdown",
   "metadata": {},
   "source": [
    "### __- Training & Testing the Confirmed Cases :__"
   ]
  },
  {
   "cell_type": "code",
   "execution_count": 115,
   "metadata": {},
   "outputs": [],
   "source": [
    "x_train_confirmed,x_test_confirmed,y_train_confirmed,y_test_confirmed = train_test_split(days_since_1_22,world_cases,test_size=0.25,shuffle=False)"
   ]
  },
  {
   "cell_type": "markdown",
   "metadata": {},
   "source": [
    "### __- Constructing the SVM Model :__"
   ]
  },
  {
   "cell_type": "code",
   "execution_count": 116,
   "metadata": {},
   "outputs": [],
   "source": [
    "svm =  SVR()"
   ]
  },
  {
   "cell_type": "code",
   "execution_count": 117,
   "metadata": {},
   "outputs": [],
   "source": [
    "kernel = ['poly','sigmoid','rbf']"
   ]
  },
  {
   "cell_type": "code",
   "execution_count": 118,
   "metadata": {},
   "outputs": [],
   "source": [
    "c = [ 0.01 , 0.1 , 1 , 10 ]"
   ]
  },
  {
   "cell_type": "code",
   "execution_count": 119,
   "metadata": {},
   "outputs": [],
   "source": [
    "gamma = [ 0.01 , 0.1 , 1 ]"
   ]
  },
  {
   "cell_type": "code",
   "execution_count": 120,
   "metadata": {},
   "outputs": [],
   "source": [
    "epsilon = [ 0.01 , 0.1 , 1 ]"
   ]
  },
  {
   "cell_type": "code",
   "execution_count": 121,
   "metadata": {},
   "outputs": [],
   "source": [
    "shrinking = [ True , False ]"
   ]
  },
  {
   "cell_type": "code",
   "execution_count": 122,
   "metadata": {},
   "outputs": [],
   "source": [
    "svm_grid= {'kernel':kernel,'C':c,'gamma':gamma,'epsilon':epsilon,'shrinking':shrinking}"
   ]
  },
  {
   "cell_type": "code",
   "execution_count": 123,
   "metadata": {},
   "outputs": [],
   "source": [
    "svm_search = RandomizedSearchCV(svm,svm_grid,scoring='neg_mean_squared_error',cv=3,return_train_score=True,n_jobs=-1,n_iter=40,verbose=1)\n"
   ]
  },
  {
   "cell_type": "code",
   "execution_count": 124,
   "metadata": {},
   "outputs": [
    {
     "name": "stdout",
     "output_type": "stream",
     "text": [
      "Fitting 3 folds for each of 40 candidates, totalling 120 fits\n"
     ]
    },
    {
     "name": "stderr",
     "output_type": "stream",
     "text": [
      "[Parallel(n_jobs=-1)]: Using backend LokyBackend with 8 concurrent workers.\n",
      "[Parallel(n_jobs=-1)]: Done 120 out of 120 | elapsed:   55.5s finished\n"
     ]
    },
    {
     "data": {
      "text/plain": [
       "RandomizedSearchCV(cv=3, error_score='raise-deprecating',\n",
       "          estimator=SVR(C=1.0, cache_size=200, coef0=0.0, degree=3, epsilon=0.1,\n",
       "  gamma='auto_deprecated', kernel='rbf', max_iter=-1, shrinking=True,\n",
       "  tol=0.001, verbose=False),\n",
       "          fit_params=None, iid='warn', n_iter=40, n_jobs=-1,\n",
       "          param_distributions={'kernel': ['poly', 'sigmoid', 'rbf'], 'C': [0.01, 0.1, 1, 10], 'gamma': [0.01, 0.1, 1], 'epsilon': [0.01, 0.1, 1], 'shrinking': [True, False]},\n",
       "          pre_dispatch='2*n_jobs', random_state=None, refit=True,\n",
       "          return_train_score=True, scoring='neg_mean_squared_error',\n",
       "          verbose=1)"
      ]
     },
     "execution_count": 124,
     "metadata": {},
     "output_type": "execute_result"
    }
   ],
   "source": [
    "svm_search.fit(x_train_confirmed,y_train_confirmed.ravel())"
   ]
  },
  {
   "cell_type": "code",
   "execution_count": 125,
   "metadata": {},
   "outputs": [
    {
     "data": {
      "text/plain": [
       "{'shrinking': True, 'kernel': 'poly', 'gamma': 1, 'epsilon': 1, 'C': 10}"
      ]
     },
     "execution_count": 125,
     "metadata": {},
     "output_type": "execute_result"
    }
   ],
   "source": [
    "svm_search.best_params_"
   ]
  },
  {
   "cell_type": "code",
   "execution_count": 126,
   "metadata": {},
   "outputs": [],
   "source": [
    "svm_confirmed = svm_search.best_estimator_"
   ]
  },
  {
   "cell_type": "code",
   "execution_count": 127,
   "metadata": {},
   "outputs": [],
   "source": [
    "svm_pred = svm_confirmed.predict(future_forecast)"
   ]
  },
  {
   "cell_type": "code",
   "execution_count": 128,
   "metadata": {},
   "outputs": [
    {
     "data": {
      "text/plain": [
       "array([   5438.26297666,    5440.21225815,    5453.85722865,\n",
       "          5490.89357711,    5563.01699258,    5681.92316438,\n",
       "          5859.30778028,    6106.86653043,    6436.29510404,\n",
       "          6859.28919126,    7387.54447843,    8032.75665189,\n",
       "          8806.62140561,    9720.83443357,   10787.09140683,\n",
       "         12017.08803464,   13422.5199957 ,   15015.08298398,\n",
       "         16806.47269345,   18808.38477231,   21032.51499082,\n",
       "         23490.55893613,   26194.21237851,   29155.17099668,\n",
       "         32385.1304083 ,   35895.78641416,   39698.83463193,\n",
       "         43805.9708624 ,   48228.89041806,   52979.28958798,\n",
       "         58068.86344052,   63509.3080206 ,   69312.319129  ,\n",
       "         75489.59207822,   82052.82303525,   89013.70731259,\n",
       "         96383.94071103,  104175.2187872 ,  112399.23734189,\n",
       "        121067.69217587,  130192.27908994,  139784.69339658,\n",
       "        149856.63065244,  160419.78690244,  171485.8581915 ,\n",
       "        183066.53934384,  195173.52713681,  207818.51639462,\n",
       "        221013.20242978,  234769.28201962,  249098.45047666,\n",
       "        264012.40360166,  279522.83621884,  295641.44461728,\n",
       "        312379.92606259,  329749.97293759,  347763.28250791,\n",
       "        366431.55203916,  385766.47586728,  405779.74735166,\n",
       "        426483.06668759,  447888.12625791,  470006.62332822,\n",
       "        492850.25418759,  516430.71219541,  540759.69461728,\n",
       "        565848.89578916,  591710.01492978,  618354.74344541,\n",
       "        645794.77860166,  674041.81766416,  703107.55399228,\n",
       "        733003.68485166,  763741.90360166,  795333.90946103,\n",
       "        827791.39383603,  861126.05789853,  895349.59305478,\n",
       "        930473.69657041,  966510.06375791, 1003470.39188291,\n",
       "       1041366.37430478, 1080209.70633603, 1120012.08719541,\n",
       "       1160785.20438291, 1202540.76297666, 1245290.45438291,\n",
       "       1289045.97782041, 1333819.02469541, 1379621.29422666,\n",
       "       1426464.47391416, 1474360.27078916, 1523320.37625791,\n",
       "       1573356.48172666, 1624480.29032041, 1676703.48563291,\n",
       "       1730037.77860166, 1784494.86063291, 1840086.41532041,\n",
       "       1896824.15360166, 1954719.76297666, 2013784.93875791,\n",
       "       2074031.38797666, 2135470.79032041, 2198114.84891416,\n",
       "       2261975.26297666, 2327063.71610166, 2393391.91922666,\n",
       "       2460971.56766416, 2529814.33328916, 2599931.94266416])"
      ]
     },
     "execution_count": 128,
     "metadata": {},
     "output_type": "execute_result"
    }
   ],
   "source": [
    "svm_pred"
   ]
  },
  {
   "cell_type": "markdown",
   "metadata": {},
   "source": [
    "### __- Checking aganist Testing Data :__"
   ]
  },
  {
   "cell_type": "code",
   "execution_count": 129,
   "metadata": {},
   "outputs": [
    {
     "name": "stdout",
     "output_type": "stream",
     "text": [
      "MEAN ABSOLUTE ERROR : 1002952.0987270698\n",
      "MEAN SQUARED ERROR : 1079224348330.2651\n"
     ]
    },
    {
     "data": {
      "image/png": "[encoded data removed]",
      "text/plain": [
       "<Figure size 432x288 with 1 Axes>"
      ]
     },
     "metadata": {
      "needs_background": "light"
     },
     "output_type": "display_data"
    }
   ],
   "source": [
    "svm_test_pred = svm_confirmed.predict(x_test_confirmed)\n",
    "plt.plot(svm_test_pred)\n",
    "plt.plot(y_test_confirmed)\n",
    "print('MEAN ABSOLUTE ERROR :',mean_absolute_error(svm_test_pred,y_test_confirmed))\n",
    "print('MEAN SQUARED ERROR :',mean_squared_error(svm_test_pred,y_test_confirmed))"
   ]
  },
  {
   "cell_type": "markdown",
   "metadata": {},
   "source": [
    "### __- Total Number of Covid 19 Cases over the Time :__"
   ]
  },
  {
   "cell_type": "code",
   "execution_count": 130,
   "metadata": {},
   "outputs": [
    {
     "data": {
      "image/png": "[encoded data removed]",
      "text/plain": [
       "<Figure size 1440x504 with 1 Axes>"
      ]
     },
     "metadata": {
      "needs_background": "light"
     },
     "output_type": "display_data"
    }
   ],
   "source": [
    "plt.figure(figsize=(20,7))\n",
    "plt.plot(adjusted_dates,world_cases)\n",
    "plt.title('NUMBER OF CORONAVIRUS CASES OVER THE TIME',size=20)\n",
    "plt.xlabel('DAYS SINCE 1/22/2020',size=15)\n",
    "plt.ylabel('NUMBER OF CASES',size=15)\n",
    "plt.xticks(size=13)\n",
    "plt.yticks(size=13)\n",
    "plt.show()"
   ]
  },
  {
   "cell_type": "markdown",
   "metadata": {},
   "source": [
    "### __- Confirmed Cases   VS   Predicted Cases :__"
   ]
  },
  {
   "cell_type": "code",
   "execution_count": 131,
   "metadata": {},
   "outputs": [
    {
     "data": {
      "text/plain": [
       "<matplotlib.legend.Legend at 0x1926650d4a8>"
      ]
     },
     "execution_count": 131,
     "metadata": {},
     "output_type": "execute_result"
    },
    {
     "data": {
      "image/png": "[encoded data removed]",
      "text/plain": [
       "<Figure size 1440x504 with 1 Axes>"
      ]
     },
     "metadata": {
      "needs_background": "light"
     },
     "output_type": "display_data"
    }
   ],
   "source": [
    "plt.figure(figsize=(20,7))\n",
    "plt.plot(adjusted_dates,world_cases)\n",
    "plt.plot(future_forecast,svm_pred,linestyle='dashed',color='purple')\n",
    "plt.title('NUMBER OF CORONAVIRUS CASES OVER THE TIME',size=25)\n",
    "plt.xlabel('DAYS SINCE 1/22/2020',size=15)\n",
    "plt.ylabel('NUMBER OF CORONAVIRUS CASES',size=15)\n",
    "plt.legend(['Confirmed Cases','SVM Predictions'])"
   ]
  },
  {
   "cell_type": "markdown",
   "metadata": {},
   "source": [
    "### __- Covid 19 Predictions for the Next 10 Days using SVM :__"
   ]
  },
  {
   "cell_type": "code",
   "execution_count": 132,
   "metadata": {},
   "outputs": [
    {
     "name": "stdout",
     "output_type": "stream",
     "text": [
      "SVM FUTURE PREDICTIONS\n"
     ]
    },
    {
     "data": {
      "text/plain": [
       "{('05/02/2020', 2013784.938757906),\n",
       " ('05/03/2020', 2074031.387976656),\n",
       " ('05/04/2020', 2135470.790320406),\n",
       " ('05/05/2020', 2198114.848914156),\n",
       " ('05/06/2020', 2261975.262976656),\n",
       " ('05/07/2020', 2327063.716101656),\n",
       " ('05/08/2020', 2393391.919226656),\n",
       " ('05/09/2020', 2460971.567664156),\n",
       " ('05/10/2020', 2529814.333289156),\n",
       " ('05/11/2020', 2599931.942664156)}"
      ]
     },
     "execution_count": 132,
     "metadata": {},
     "output_type": "execute_result"
    }
   ],
   "source": [
    "print('SVM FUTURE PREDICTIONS')\n",
    "set(zip(future_forecast_dates[-10:],svm_pred[-10:]))"
   ]
  },
  {
   "cell_type": "markdown",
   "metadata": {},
   "source": [
    "### __- Making Predictions Using Linear Regression Model :__"
   ]
  },
  {
   "cell_type": "code",
   "execution_count": 133,
   "metadata": {},
   "outputs": [],
   "source": [
    "from sklearn.linear_model import LinearRegression"
   ]
  },
  {
   "cell_type": "code",
   "execution_count": 134,
   "metadata": {},
   "outputs": [
    {
     "name": "stdout",
     "output_type": "stream",
     "text": [
      "MEAN ABSOLUTE ERROR : 1578843.6578688407\n",
      "MEAN SQUARED ERROR : 2767507490725.6846\n"
     ]
    }
   ],
   "source": [
    "linear_model = LinearRegression(normalize=True,fit_intercept=True)\n",
    "linear_model.fit(x_train_confirmed,y_train_confirmed)\n",
    "test_linear_pred = linear_model.predict(x_test_confirmed)\n",
    "linear_pred = linear_model.predict(future_forecast)\n",
    "print('MEAN ABSOLUTE ERROR :',mean_absolute_error(test_linear_pred,y_test_confirmed))\n",
    "print('MEAN SQUARED ERROR :',mean_squared_error(test_linear_pred,y_test_confirmed))"
   ]
  },
  {
   "cell_type": "code",
   "execution_count": 135,
   "metadata": {},
   "outputs": [
    {
     "data": {
      "text/plain": [
       "[<matplotlib.lines.Line2D at 0x19264ec1400>]"
      ]
     },
     "execution_count": 135,
     "metadata": {},
     "output_type": "execute_result"
    },
    {
     "data": {
      "image/png": "[encoded data removed]",
      "text/plain": [
       "<Figure size 864x432 with 1 Axes>"
      ]
     },
     "metadata": {
      "needs_background": "light"
     },
     "output_type": "display_data"
    }
   ],
   "source": [
    "plt.figure(figsize=(12,6))\n",
    "plt.plot(y_test_confirmed)\n",
    "plt.plot(test_linear_pred)"
   ]
  },
  {
   "cell_type": "markdown",
   "metadata": {},
   "source": [
    "### __- Number of Cases over the Time :__"
   ]
  },
  {
   "cell_type": "code",
   "execution_count": 136,
   "metadata": {},
   "outputs": [
    {
     "data": {
      "image/png": "[encoded data removed]",
      "text/plain": [
       "<Figure size 1440x504 with 1 Axes>"
      ]
     },
     "metadata": {
      "needs_background": "light"
     },
     "output_type": "display_data"
    }
   ],
   "source": [
    "plt.figure(figsize=(20,7))\n",
    "plt.plot(adjusted_dates,world_cases)\n",
    "plt.plot(future_forecast,linear_pred,linestyle='dashed',color='orange')\n",
    "plt.title('NUMBER OF CORONAVIRUS CASES OVER THE TIME',size=25)\n",
    "plt.xlabel('DAYS SINCE 1/22/2020',size=15)\n",
    "plt.ylabel('NUMBER OF CORONAVIRUS CASES',size=15)\n",
    "plt.legend(['CONFIRMED CASES','LINEAR REGRESSION PREDICTIONS'])\n",
    "plt.xticks(size=15)\n",
    "plt.yticks(size=15)\n",
    "plt.show()"
   ]
  },
  {
   "cell_type": "markdown",
   "metadata": {},
   "source": [
    "### __- Predictions for the Next 10 Days Using Linear Regression :__"
   ]
  },
  {
   "cell_type": "code",
   "execution_count": 137,
   "metadata": {},
   "outputs": [
    {
     "name": "stdout",
     "output_type": "stream",
     "text": [
      "LINEAR REGRESSION FUTURE PREDICTIONS\n",
      "[[ 911192.74609768]\n",
      " [ 922081.43983879]\n",
      " [ 932970.1335799 ]\n",
      " [ 943858.827321  ]\n",
      " [ 954747.52106211]\n",
      " [ 965636.21480322]\n",
      " [ 976524.90854433]\n",
      " [ 987413.60228544]\n",
      " [ 998302.29602655]\n",
      " [1009190.98976766]]\n"
     ]
    }
   ],
   "source": [
    "print('LINEAR REGRESSION FUTURE PREDICTIONS')\n",
    "print(linear_pred[-10:])"
   ]
  },
  {
   "cell_type": "markdown",
   "metadata": {},
   "source": [
    "### __- Total Deaths over the Time :__"
   ]
  },
  {
   "cell_type": "code",
   "execution_count": 138,
   "metadata": {},
   "outputs": [
    {
     "data": {
      "image/png": "[encoded data removed]",
      "text/plain": [
       "<Figure size 1440x504 with 1 Axes>"
      ]
     },
     "metadata": {
      "needs_background": "light"
     },
     "output_type": "display_data"
    }
   ],
   "source": [
    "\n",
    "\n",
    "plt.figure(figsize=(20,7))\n",
    "plt.plot(adjusted_dates,total_deaths,color='red')\n",
    "plt.title('NUMBER OF CORONAVIRUS DEATHS OVER THE TIME',size=25)\n",
    "plt.xlabel('TIME',size=15)\n",
    "plt.ylabel('NUMBER OF DEATHS',size=15)\n",
    "plt.xticks(size=15)\n",
    "plt.yticks(size=15)\n",
    "plt.show()"
   ]
  },
  {
   "cell_type": "markdown",
   "metadata": {},
   "source": [
    "### __- Mortality Rate of Corona Virus over the Time :__ "
   ]
  },
  {
   "cell_type": "code",
   "execution_count": 139,
   "metadata": {},
   "outputs": [
    {
     "data": {
      "image/png": "[encoded data removed]",
      "text/plain": [
       "<Figure size 1080x432 with 1 Axes>"
      ]
     },
     "metadata": {
      "needs_background": "light"
     },
     "output_type": "display_data"
    }
   ],
   "source": [
    "mean_mortality_rate = np.mean(mortality_rate)\n",
    "plt.figure(figsize=(15,6))\n",
    "\n",
    "\n",
    "plt.plot(adjusted_dates,mortality_rate,color='blue')\n",
    "\n",
    "plt.axhline(y=mean_mortality_rate,linestyle='--',color='black')\n",
    "\n",
    "plt.title('MORTALITY RATE OF CORONAVIRUS OVER THE TIME',size=25)\n",
    "plt.xlabel('TIME',size=15)\n",
    "plt.ylabel('MORTALITY RATE',size=15)\n",
    "plt.legend(['MORTALITY RATE','Y='+str(mean_mortality_rate)])\n",
    "plt.xticks(size=15)\n",
    "plt.yticks(size=15)\n",
    "plt.show()\n"
   ]
  },
  {
   "cell_type": "markdown",
   "metadata": {},
   "source": [
    "### __- Total Number Of Covid 19 Recovered Cases over the Time :__"
   ]
  },
  {
   "cell_type": "code",
   "execution_count": 140,
   "metadata": {},
   "outputs": [
    {
     "data": {
      "image/png": "[encoded data removed]",
      "text/plain": [
       "<Figure size 1440x504 with 1 Axes>"
      ]
     },
     "metadata": {
      "needs_background": "light"
     },
     "output_type": "display_data"
    }
   ],
   "source": [
    "plt.figure(figsize=(20,7))\n",
    "plt.plot(adjusted_dates,total_recovered,color='green')\n",
    "plt.title('NUMBER OF CORONAVIRUS CASES RECOVERED OVER THE TIME',size=25)\n",
    "plt.xlabel('TIME',size=15)\n",
    "plt.ylabel('NUMBER OF CASES',size=15)\n",
    "plt.xticks(size=15)\n",
    "plt.yticks(size=15)\n",
    "plt.show()"
   ]
  },
  {
   "cell_type": "markdown",
   "metadata": {},
   "source": [
    "### __- Recovered Cases  VS  Death cases :__ "
   ]
  },
  {
   "cell_type": "code",
   "execution_count": 141,
   "metadata": {},
   "outputs": [
    {
     "data": {
      "image/png": "[encoded data removed]",
      "text/plain": [
       "<Figure size 1440x504 with 1 Axes>"
      ]
     },
     "metadata": {
      "needs_background": "light"
     },
     "output_type": "display_data"
    }
   ],
   "source": [
    "plt.figure(figsize=(20,7))\n",
    "plt.plot(adjusted_dates,world_cases,color='red')\n",
    "plt.plot(adjusted_dates,total_recovered,linestyle='dashed',color='green')\n",
    "plt.title('RECOVERED CASES  VS  DEATH CASES',size=25)\n",
    "plt.xlabel('TIME',size=15)\n",
    "plt.ylabel('NUMBER OF CASES',size=15)\n",
    "plt.legend(['DEATHS','RECOVERIES'],loc='best',fontsize=20)\n",
    "plt.xticks(size=15)\n",
    "plt.yticks(size=15)\n",
    "plt.show()"
   ]
  },
  {
   "cell_type": "markdown",
   "metadata": {},
   "source": [
    "### __- Covid 19 Deaths  VS  Covid 19 Recoveries :__"
   ]
  },
  {
   "cell_type": "code",
   "execution_count": 142,
   "metadata": {},
   "outputs": [
    {
     "data": {
      "image/png": "[encoded data removed]",
      "text/plain": [
       "<Figure size 1440x504 with 1 Axes>"
      ]
     },
     "metadata": {
      "needs_background": "light"
     },
     "output_type": "display_data"
    }
   ],
   "source": [
    "plt.figure(figsize=(20,7))\n",
    "plt.plot(total_recovered,total_deaths,color='brown')\n",
    "plt.title('   CORONA VIRUS DEATHS    VS   CORONA VIRUS RECOVERIES  ',size=25) \n",
    "plt.xlabel('TOTAL NUMBER OF CORONA VIRUS RECOVERIES',size=15)\n",
    "plt.ylabel('TOTAL NUMBER OF CORONA VIRUS DEATHS',size=15)\n",
    "plt.xticks(size=15)\n",
    "plt.yticks(size=15)\n",
    "plt.show()"
   ]
  },
  {
   "cell_type": "markdown",
   "metadata": {},
   "source": [
    "- ## __THE END__"
   ]
  },
  {
   "cell_type": "markdown",
   "metadata": {},
   "source": [
    "--------"
   ]
  },
  {
   "cell_type": "code",
   "execution_count": null,
   "metadata": {},
   "outputs": [],
   "source": []
  },
  {
   "cell_type": "code",
   "execution_count": null,
   "metadata": {},
   "outputs": [],
   "source": []
  },
  {
   "cell_type": "code",
   "execution_count": null,
   "metadata": {},
   "outputs": [],
   "source": []
  },
  {
   "cell_type": "code",
   "execution_count": null,
   "metadata": {},
   "outputs": [],
   "source": []
  },
  {
   "cell_type": "code",
   "execution_count": null,
   "metadata": {},
   "outputs": [],
   "source": []
  },
  {
   "cell_type": "code",
   "execution_count": null,
   "metadata": {},
   "outputs": [],
   "source": []
  },
  {
   "cell_type": "code",
   "execution_count": null,
   "metadata": {},
   "outputs": [],
   "source": []
  },
  {
   "cell_type": "code",
   "execution_count": null,
   "metadata": {},
   "outputs": [],
   "source": []
  },
  {
   "cell_type": "code",
   "execution_count": null,
   "metadata": {},
   "outputs": [],
   "source": []
  },
  {
   "cell_type": "code",
   "execution_count": null,
   "metadata": {},
   "outputs": [],
   "source": []
  },
  {
   "cell_type": "code",
   "execution_count": null,
   "metadata": {},
   "outputs": [],
   "source": []
  },
  {
   "cell_type": "code",
   "execution_count": null,
   "metadata": {},
   "outputs": [],
   "source": []
  },
  {
   "cell_type": "code",
   "execution_count": null,
   "metadata": {},
   "outputs": [],
   "source": []
  },
  {
   "cell_type": "code",
   "execution_count": null,
   "metadata": {},
   "outputs": [],
   "source": []
  },
  {
   "cell_type": "code",
   "execution_count": null,
   "metadata": {},
   "outputs": [],
   "source": []
  },
  {
   "cell_type": "code",
   "execution_count": null,
   "metadata": {},
   "outputs": [],
   "source": []
  },
  {
   "cell_type": "code",
   "execution_count": null,
   "metadata": {},
   "outputs": [],
   "source": []
  },
  {
   "cell_type": "code",
   "execution_count": null,
   "metadata": {},
   "outputs": [],
   "source": []
  },
  {
   "cell_type": "code",
   "execution_count": null,
   "metadata": {},
   "outputs": [],
   "source": []
  },
  {
   "cell_type": "code",
   "execution_count": null,
   "metadata": {},
   "outputs": [],
   "source": []
  },
  {
   "cell_type": "code",
   "execution_count": null,
   "metadata": {},
   "outputs": [],
   "source": []
  },
  {
   "cell_type": "code",
   "execution_count": null,
   "metadata": {},
   "outputs": [],
   "source": []
  },
  {
   "cell_type": "code",
   "execution_count": null,
   "metadata": {},
   "outputs": [],
   "source": []
  },
  {
   "cell_type": "code",
   "execution_count": null,
   "metadata": {},
   "outputs": [],
   "source": []
  },
  {
   "cell_type": "code",
   "execution_count": null,
   "metadata": {},
   "outputs": [],
   "source": []
  },
  {
   "cell_type": "code",
   "execution_count": null,
   "metadata": {},
   "outputs": [],
   "source": []
  }
 ],
 "metadata": {
  "kernelspec": {
   "display_name": "Python 3",
   "language": "python",
   "name": "python3"
  },
  "language_info": {
   "codemirror_mode": {
    "name": "ipython",
    "version": 3
   },
   "file_extension": ".py",
   "mimetype": "text/x-python",
   "name": "python",
   "nbconvert_exporter": "python",
   "pygments_lexer": "ipython3",
   "version": "3.7.3"
  }
 },
 "nbformat": 4,
 "nbformat_minor": 2
}
